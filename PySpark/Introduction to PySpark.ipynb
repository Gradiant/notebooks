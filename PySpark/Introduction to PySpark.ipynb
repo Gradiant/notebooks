{
 "cells": [
  {
   "cell_type": "code",
   "execution_count": 1,
   "metadata": {},
   "outputs": [],
   "source": [
    "import findspark\n",
    "findspark.init()"
   ]
  },
  {
   "cell_type": "code",
   "execution_count": 8,
   "metadata": {},
   "outputs": [],
   "source": [
    "import pyspark\n",
    "sc = pyspark.SparkContext()"
   ]
  },
  {
   "cell_type": "markdown",
   "metadata": {},
   "source": [
    " #  RDD API Examples"
   ]
  },
  {
   "cell_type": "markdown",
   "metadata": {},
   "source": [
    "## Word Count\n",
    "In this example, we use a few transformations to build a dataset of (String, Int) pairs called counts and then save it to a file.\n",
    "```\n",
    "sc.textFile(name, minPartitions=None, use_unicode=True)\n",
    "Read a text file from HDFS, a local file system (available on all nodes), or any Hadoop-supported file system URI, and return it as an RDD of Strings.\n",
    "```\n"
   ]
  },
  {
   "cell_type": "code",
   "execution_count": 10,
   "metadata": {},
   "outputs": [
    {
     "data": {
      "text/plain": [
       "[('que', 19429),\n",
       " ('de', 17985),\n",
       " ('y', 15894),\n",
       " ('la', 10200),\n",
       " ('a', 9519),\n",
       " ('', 9195),\n",
       " ('el', 7957),\n",
       " ('en', 7898),\n",
       " ('no', 5603),\n",
       " ('se', 4690),\n",
       " ('los', 4680),\n",
       " ('con', 4047),\n",
       " ('por', 3758),\n",
       " ('las', 3423),\n",
       " ('lo', 3387),\n",
       " ('le', 3382),\n",
       " ('su', 3319),\n",
       " ('don', 2533),\n",
       " ('del', 2464),\n",
       " ('me', 2344),\n",
       " ('como', 2226),\n",
       " ('es', 1990),\n",
       " ('un', 1927),\n",
       " ('más', 1823),\n",
       " ('si', 1779),\n",
       " ('yo', 1703),\n",
       " ('al', 1696),\n",
       " ('mi', 1684),\n",
       " ('para', 1419),\n",
       " ('ni', 1350),\n",
       " ('una', 1300),\n",
       " ('y,', 1250),\n",
       " ('tan', 1217),\n",
       " ('porque', 1189),\n",
       " ('o', 1159),\n",
       " ('sin', 1139),\n",
       " ('que,', 1069),\n",
       " ('sus', 1047),\n",
       " ('ha', 1038),\n",
       " ('él', 1034),\n",
       " ('había', 1006),\n",
       " ('ser', 997),\n",
       " ('todo', 963),\n",
       " ('Sancho', 950),\n",
       " ('Quijote', 893),\n",
       " ('-dijo', 873),\n",
       " ('bien', 862),\n",
       " ('-respondió', 813),\n",
       " ('vuestra', 792),\n",
       " ('señor', 732)]"
      ]
     },
     "execution_count": 10,
     "metadata": {},
     "output_type": "execute_result"
    }
   ],
   "source": [
    "import os\n",
    "\n",
    "\n",
    "text_file = sc.textFile(os.getcwd()+\"/../datasets/quijote.txt\")\n",
    "\n",
    "counts = text_file.flatMap(lambda line: line.split(\" \")) \\\n",
    "             .map(lambda word: (word, 1)) \\\n",
    "             .reduceByKey(lambda a, b: a + b)\n",
    "counts = counts.sortBy(lambda a: a[1], ascending=False)\n",
    "#NOTE: sortBy is not as efficient as sortByKey since it involves keying by the values,\n",
    "#sorting by the keys, and then grabbing the values \n",
    "counts.take(50)\n",
    "\n",
    "#counts.saveAsTextFile(os.path.join(\"/notebooks/\",\"quixote-counts.txt\"))\n"
   ]
  },
  {
   "cell_type": "markdown",
   "metadata": {},
   "source": [
    "## Pi Estimation\n",
    "\n",
    "Spark can also be used for compute-intensive tasks. This code estimates π by \"throwing darts\" at a circle. We pick random points in the unit square ((0, 0) to (1,1)) and see how many fall in the unit circle. The fraction should be π / 4, so we use this to get our estimate."
   ]
  },
  {
   "cell_type": "code",
   "execution_count": 11,
   "metadata": {},
   "outputs": [
    {
     "name": "stdout",
     "output_type": "stream",
     "text": [
      "Pi is roughly 3.1407213333333335\n"
     ]
    }
   ],
   "source": [
    "import random\n",
    "\n",
    "NUM_SAMPLES=12000000\n",
    "\n",
    "def inside(p):\n",
    "    x, y = random.random(), random.random()\n",
    "    return x*x + y*y < 1\n",
    "\n",
    "count = sc.parallelize(range(0, NUM_SAMPLES)) \\\n",
    "             .filter(inside).count()\n",
    "print (\"Pi is roughly {}\".format(4.0 * count / NUM_SAMPLES))"
   ]
  },
  {
   "cell_type": "markdown",
   "metadata": {},
   "source": [
    "# DataFrame API Examples"
   ]
  },
  {
   "cell_type": "markdown",
   "metadata": {},
   "source": [
    "In this example, we count al quijote lines mentioning Dulcinea."
   ]
  },
  {
   "cell_type": "code",
   "execution_count": 4,
   "metadata": {},
   "outputs": [
    {
     "name": "stdout",
     "output_type": "stream",
     "text": [
      "There are 282 lines with 'Dulcinea'\n",
      "There are 12 lines with 'Dulcinea' and 'Quijote'\n"
     ]
    },
    {
     "data": {
      "text/plain": [
       "[Row(line='aquella noche no durmió don Quijote, pensando en su señora Dulcinea, por'),\n",
       " Row(line='Quijote pedía, y sin preguntar quién Dulcinea fuese, le prometió que el'),\n",
       " Row(line='Carta de don Quijote a Dulcinea del Toboso'),\n",
       " Row(line='don Quijote que si, en nombrando a Dulcinea, no decía también del Toboso,'),\n",
       " Row(line='Don Quijote, que tales blasfemias oyó decir contra su señora Dulcinea, no'),\n",
       " Row(line='-Si no fue la que llevaste a la señora Dulcinea -replicó don Quijote-, yo'),\n",
       " Row(line='a don Quijote que qué nuevas tenía de la señora Dulcinea, y que si le había'),\n",
       " Row(line='-A eso puedo decir -respondió don Quijote- que Dulcinea es hija de sus'),\n",
       " Row(line='Dulcinea del Toboso, ni le llevó la carta del señor don Quijote, porque se'),\n",
       " Row(line='encantada Dulcinea; en don Quijote, por no poder asegurarse si era verdad o'),\n",
       " Row(line='que pinta a don Quijote ya desenamorado de Dulcinea del Toboso.'),\n",
       " Row(line='-No quiero saber más -dijo don Quijote-; que como yo vea a Dulcinea')]"
      ]
     },
     "execution_count": 4,
     "metadata": {},
     "output_type": "execute_result"
    }
   ],
   "source": [
    "from pyspark.sql import SparkSession, Row\n",
    "from pyspark.sql.functions import col\n",
    "\n",
    "spark = SparkSession(sc)\n",
    "\n",
    "text_file = sc.textFile(os.getcwd()+\"/../datasets/quijote.txt\")\n",
    "# Creates a DataFrame having a single column named \"line\"\n",
    "df = text_file.map(lambda r: Row(r)).toDF([\"line\"])\n",
    "dulcinea_lines = df.filter(col(\"line\").like(\"%Dulcinea%\"))\n",
    "# Counts all the Dulcinea lines\n",
    "print(\"There are {} lines with 'Dulcinea'\".format(dulcinea_lines.count()))\n",
    "# Counts lines mentioning Dulcinea and Quijote\n",
    "print(\"There are {} lines with 'Dulcinea' and 'Quijote'\".format(\n",
    "    dulcinea_lines.filter(col(\"line\").like(\"%Quijote%\")).count()))\n",
    "# Fetches the lines as an array of strings\n",
    "dulcinea_lines.filter(col(\"line\").like(\"%Quijote%\")).collect()"
   ]
  },
  {
   "cell_type": "markdown",
   "metadata": {},
   "source": [
    "### Exploring the superheroes dataset"
   ]
  },
  {
   "cell_type": "code",
   "execution_count": 8,
   "metadata": {},
   "outputs": [
    {
     "name": "stdout",
     "output_type": "stream",
     "text": [
      "+---+---------------+--------+--------+------+---------+------+------+------+--------+---------+---------+-------------+------+-----------+-------------------+--------------------+\n",
      "|_c0|           Name|Identity|  Status|Gender|Alignment|  Race|Height|Weight|EyeColor|HairColor|SkinColor|    Publisher|  Year|Appearances|    FirstAppearance|      AdditionalData|\n",
      "+---+---------------+--------+--------+------+---------+------+------+------+--------+---------+---------+-------------+------+-----------+-------------------+--------------------+\n",
      "|  0|     Spider-Man|  Secret|  Living|  Male|     Good| Human| 178.0|  74.0|   Hazel|    Brown|     null|Marvel Comics|1962.0|     4043.0|1962-08-01 00:00:00|        Peter Parker|\n",
      "|  1|     Spider-Man|  Secret|  Living|  Male|     Good| Human| 178.0|  77.0|     Red|    Brown|     null|Marvel Comics|1962.0|     4043.0|1962-08-01 00:00:00|        Peter Parker|\n",
      "|  2|     Spider-Man|  Secret|  Living|  Male|     Good| Human| 157.0|  56.0|   Brown|    Black|     null|Marvel Comics|1962.0|     4043.0|1962-08-01 00:00:00|        Peter Parker|\n",
      "|  3|Captain America|  Public|  Living|  Male|     Good| Human| 188.0| 108.0|    Blue|    Blond|     null|Marvel Comics|1941.0|     3360.0|1941-03-01 00:00:00|       Steven Rogers|\n",
      "|  4|Captain America|  Secret|  Living|  Male|     Good| Human| 188.0| 108.0|    Blue|    Blond|     null|Marvel Comics|1966.0|        1.0|1966-10-01 00:00:00|Impersonator, Son...|\n",
      "|  5|Captain America|  Secret|  Living|  Male|     Good| Human| 188.0| 108.0|    Blue|    Blond|     null|Marvel Comics|1998.0|        1.0|1998-10-01 00:00:00|    Taskmaster Robot|\n",
      "|  6|      Wolverine|  Public|  Living|  Male|     Good|Mutant| 160.0| 135.0|    Blue|    Black|     null|Marvel Comics|1974.0|     3061.0|1974-10-01 00:00:00|\"James \"\"Logan\"\" ...|\n",
      "|  7|      Wolverine|  Secret|  Living|  Male|     Good|Mutant| 160.0| 135.0|    Blue|    Black|     null|Marvel Comics|2012.0|        1.0|2012-12-01 00:00:00|          Hatchitech|\n",
      "|  8|       Iron Man|  Public|  Living|  Male|     Good| Human| 198.0| 191.0|    Blue|    Black|     null|Marvel Comics|1963.0|     2961.0|1963-03-01 00:00:00|\"Anthony \"\"Tony\"\"...|\n",
      "|  9|       Iron Man|  Public|Deceased|  Male|     Good| Human| 198.0| 191.0|    Blue|    Black|     null|Marvel Comics|2000.0|        4.0|2000-03-01 00:00:00|      Sentient Armor|\n",
      "+---+---------------+--------+--------+------+---------+------+------+------+--------+---------+---------+-------------+------+-----------+-------------------+--------------------+\n",
      "only showing top 10 rows\n",
      "\n"
     ]
    }
   ],
   "source": [
    "superhero_df = spark.read.csv(os.getcwd()+\"/../datasets/superheroes_info.csv\", inferSchema = True, header = True)\n",
    "superhero_df.show(10)"
   ]
  },
  {
   "cell_type": "code",
   "execution_count": 12,
   "metadata": {},
   "outputs": [
    {
     "name": "stdout",
     "output_type": "stream",
     "text": [
      "+-----------------+-----+\n",
      "|        Publisher|count|\n",
      "+-----------------+-----+\n",
      "|        Rebellion|    1|\n",
      "|               DC| 6808|\n",
      "|    HarperCollins|    7|\n",
      "| J. R. R. Tolkien|    1|\n",
      "|        Star Trek|    6|\n",
      "|    Marvel Comics|  482|\n",
      "|        Wildstorm|    3|\n",
      "|             null|   13|\n",
      "|       South Park|    1|\n",
      "|    Sony Pictures|    2|\n",
      "|      Titan Books|    1|\n",
      "|      ABC Studios|    4|\n",
      "|             SyFy|    5|\n",
      "|     Image Comics|   15|\n",
      "|Universal Studios|    1|\n",
      "|   IDW Publishing|    4|\n",
      "|           Marvel|16109|\n",
      "|     NBC - Heroes|   19|\n",
      "|    Hanna-Barbera|    1|\n",
      "|        DC Comics|  241|\n",
      "+-----------------+-----+\n",
      "only showing top 20 rows\n",
      "\n"
     ]
    }
   ],
   "source": [
    "publisher_df = superhero_df.groupby(\"Publisher\").count().show()"
   ]
  },
  {
   "cell_type": "markdown",
   "metadata": {},
   "source": [
    "### Spark SQL Example"
   ]
  },
  {
   "cell_type": "code",
   "execution_count": 17,
   "metadata": {},
   "outputs": [
    {
     "name": "stdout",
     "output_type": "stream",
     "text": [
      "+---------------+------+--------+\n",
      "|           Name|Gender|  Status|\n",
      "+---------------+------+--------+\n",
      "|     Spider-Man|  Male|  Living|\n",
      "|     Spider-Man|  Male|  Living|\n",
      "|     Spider-Man|  Male|  Living|\n",
      "|Captain America|  Male|  Living|\n",
      "|Captain America|  Male|  Living|\n",
      "|Captain America|  Male|  Living|\n",
      "|      Wolverine|  Male|  Living|\n",
      "|      Wolverine|  Male|  Living|\n",
      "|       Iron Man|  Male|  Living|\n",
      "|       Iron Man|  Male|Deceased|\n",
      "|       Iron Man|  Male|  Living|\n",
      "|           Thor|  Male|  Living|\n",
      "|           Thor|  Male|  Living|\n",
      "|           Thor|  Male|  Living|\n",
      "|           Thor|  Male|  Living|\n",
      "| Benjamin Grimm|  Male|  Living|\n",
      "| Benjamin Grimm|  Male|  Living|\n",
      "| Benjamin Grimm|  Male|Deceased|\n",
      "| Benjamin Grimm|  Male|  Living|\n",
      "| Benjamin Grimm|  Male|  Living|\n",
      "+---------------+------+--------+\n",
      "only showing top 20 rows\n",
      "\n"
     ]
    }
   ],
   "source": [
    "superhero_df.createOrReplaceTempView(\"superhero_table\")\n",
    "spark.sql(\"select Name,Gender,Status from superhero_table\").show()"
   ]
  },
  {
   "cell_type": "markdown",
   "metadata": {},
   "source": [
    "# Machine Learning Examples"
   ]
  },
  {
   "cell_type": "markdown",
   "metadata": {},
   "source": [
    "## Prediction with Logistic Regression"
   ]
  },
  {
   "cell_type": "code",
   "execution_count": 5,
   "metadata": {},
   "outputs": [
    {
     "ename": "NameError",
     "evalue": "name 'data' is not defined",
     "output_type": "error",
     "traceback": [
      "\u001b[0;31m---------------------------------------------------------------------------\u001b[0m",
      "\u001b[0;31mNameError\u001b[0m                                 Traceback (most recent call last)",
      "\u001b[0;32m<ipython-input-5-36ce78fdf042>\u001b[0m in \u001b[0;36m<module>\u001b[0;34m\u001b[0m\n\u001b[1;32m      1\u001b[0m \u001b[0;31m# Every record of this DataFrame contains the label and\u001b[0m\u001b[0;34m\u001b[0m\u001b[0;34m\u001b[0m\u001b[0m\n\u001b[1;32m      2\u001b[0m \u001b[0;31m# features represented by a vector.\u001b[0m\u001b[0;34m\u001b[0m\u001b[0;34m\u001b[0m\u001b[0m\n\u001b[0;32m----> 3\u001b[0;31m \u001b[0mdf\u001b[0m \u001b[0;34m=\u001b[0m \u001b[0mspark\u001b[0m\u001b[0;34m.\u001b[0m\u001b[0mcreateDataFrame\u001b[0m\u001b[0;34m(\u001b[0m\u001b[0mdata\u001b[0m\u001b[0;34m,\u001b[0m \u001b[0;34m[\u001b[0m\u001b[0;34m\"label\"\u001b[0m\u001b[0;34m,\u001b[0m \u001b[0;34m\"features\"\u001b[0m\u001b[0;34m]\u001b[0m\u001b[0;34m)\u001b[0m\u001b[0;34m\u001b[0m\u001b[0m\n\u001b[0m\u001b[1;32m      4\u001b[0m \u001b[0;34m\u001b[0m\u001b[0m\n\u001b[1;32m      5\u001b[0m \u001b[0;31m# Set parameters for the algorithm.\u001b[0m\u001b[0;34m\u001b[0m\u001b[0;34m\u001b[0m\u001b[0m\n",
      "\u001b[0;31mNameError\u001b[0m: name 'data' is not defined"
     ]
    }
   ],
   "source": [
    "# Every record of this DataFrame contains the label and\n",
    "# features represented by a vector.\n",
    "df = spark.createDataFrame(data, [\"label\", \"features\"])\n",
    "\n",
    "# Set parameters for the algorithm.\n",
    "# Here, we limit the number of iterations to 10.\n",
    "lr = LogisticRegression(maxIter=10)\n",
    "\n",
    "# Fit the model to the data.\n",
    "model = lr.fit(df)\n",
    "\n",
    "# Given a dataset, predict each point's label, and show the results.\n",
    "model.transform(df).show()"
   ]
  },
  {
   "cell_type": "code",
   "execution_count": 12,
   "metadata": {},
   "outputs": [],
   "source": [
    "\n",
    "sc.stop()\n"
   ]
  },
  {
   "cell_type": "code",
   "execution_count": null,
   "metadata": {},
   "outputs": [],
   "source": []
  }
 ],
 "metadata": {
  "kernelspec": {
   "display_name": "Python 3",
   "language": "python",
   "name": "python3"
  },
  "language_info": {
   "codemirror_mode": {
    "name": "ipython",
    "version": 3
   },
   "file_extension": ".py",
   "mimetype": "text/x-python",
   "name": "python",
   "nbconvert_exporter": "python",
   "pygments_lexer": "ipython3",
   "version": "3.6.6"
  }
 },
 "nbformat": 4,
 "nbformat_minor": 2
}

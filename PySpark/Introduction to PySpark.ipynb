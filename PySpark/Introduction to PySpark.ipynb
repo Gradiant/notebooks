{
 "cells": [
  {
   "cell_type": "markdown",
   "metadata": {},
   "source": [
    " #  RDD API Examples"
   ]
  },
  {
   "cell_type": "markdown",
   "metadata": {},
   "source": [
    "## Word Count\n",
    "In this example, we use a few transformations to build a dataset of (String, Int) pairs called counts and then save it to a file.\n",
    "```\n",
    "sc.textFile(name, minPartitions=None, use_unicode=True)\n",
    "Read a text file from HDFS, a local file system (available on all nodes), or any Hadoop-supported file system URI, and return it as an RDD of Strings.\n",
    "```\n"
   ]
  },
  {
   "cell_type": "code",
   "execution_count": 8,
   "metadata": {},
   "outputs": [
    {
     "data": {
      "text/plain": [
       "[('que', 18240),\n",
       " ('de', 16633),\n",
       " ('y', 14708),\n",
       " ('la', 9245),\n",
       " ('a', 8856),\n",
       " ('en', 7400),\n",
       " ('el', 7309),\n",
       " ('\\n', 5834),\n",
       " ('no', 5251),\n",
       " ('se', 4309),\n",
       " ('los', 4194),\n",
       " ('con', 3769),\n",
       " ('por', 3475),\n",
       " ('', 3361),\n",
       " ('lo', 3167),\n",
       " ('las', 3097),\n",
       " ('le', 3053),\n",
       " ('su', 2975),\n",
       " ('don', 2345),\n",
       " ('del', 2251),\n",
       " ('me', 2146),\n",
       " ('como', 2069),\n",
       " ('es', 1871),\n",
       " ('un', 1754),\n",
       " ('más', 1673),\n",
       " ('si', 1668),\n",
       " ('yo', 1614),\n",
       " ('al', 1534),\n",
       " ('mi', 1526),\n",
       " ('de\\n', 1352),\n",
       " ('para', 1301),\n",
       " ('ni', 1257),\n",
       " ('una', 1192),\n",
       " ('que\\n', 1189),\n",
       " ('y\\n', 1186),\n",
       " ('y,', 1136),\n",
       " ('porque', 1126),\n",
       " ('tan', 1108),\n",
       " ('o', 1067),\n",
       " ('sin', 1044),\n",
       " ('que,', 995),\n",
       " ('él', 971),\n",
       " ('ha', 962),\n",
       " ('la\\n', 955),\n",
       " ('ser', 927),\n",
       " ('Sancho', 908),\n",
       " ('sus', 904),\n",
       " ('había', 903),\n",
       " ('todo', 898),\n",
       " ('-dijo', 870)]"
      ]
     },
     "execution_count": 8,
     "metadata": {},
     "output_type": "execute_result"
    }
   ],
   "source": [
    "import os\n",
    "\n",
    "#text_file = sc.textFile(os.getcwd()+\"/../datasets/quijote.txt\")\n",
    "# To avoid copying a local file to all workers\n",
    "\n",
    "lines = []\n",
    "with open('../datasets/quijote.txt') as my_file:\n",
    "    for line in my_file:\n",
    "        lines.append(line)\n",
    "text_file = sc.parallelize(lines)\n",
    "\n",
    "\n",
    "counts = text_file.flatMap(lambda line: line.split(\" \")) \\\n",
    "             .map(lambda word: (word, 1)) \\\n",
    "             .reduceByKey(lambda a, b: a + b)\n",
    "counts = counts.sortBy(lambda a: a[1], ascending=False)\n",
    "#NOTE: sortBy is not as efficient as sortByKey since it involves keying by the values,\n",
    "#sorting by the keys, and then grabbing the values \n",
    "counts.take(50)\n",
    "\n",
    "#counts.saveAsTextFile(os.path.join(\"/notebooks/\",\"quixote-counts.txt\"))\n"
   ]
  },
  {
   "cell_type": "markdown",
   "metadata": {},
   "source": [
    "## Pi Estimation\n",
    "\n",
    "Spark can also be used for compute-intensive tasks. This code estimates π by \"throwing darts\" at a circle. We pick random points in the unit square ((0, 0) to (1,1)) and see how many fall in the unit circle. The fraction should be π / 4, so we use this to get our estimate."
   ]
  },
  {
   "cell_type": "code",
   "execution_count": 9,
   "metadata": {},
   "outputs": [
    {
     "name": "stdout",
     "output_type": "stream",
     "text": [
      "Pi is roughly 3.140752\n"
     ]
    }
   ],
   "source": [
    "import random\n",
    "\n",
    "NUM_SAMPLES=12000000\n",
    "\n",
    "def inside(p):\n",
    "    x, y = random.random(), random.random()\n",
    "    return x*x + y*y < 1\n",
    "\n",
    "count = sc.parallelize(range(0, NUM_SAMPLES)) \\\n",
    "             .filter(inside).count()\n",
    "print (\"Pi is roughly {}\".format(4.0 * count / NUM_SAMPLES))"
   ]
  },
  {
   "cell_type": "markdown",
   "metadata": {},
   "source": [
    "# DataFrame API Examples"
   ]
  },
  {
   "cell_type": "markdown",
   "metadata": {},
   "source": [
    "### Testing Conversion to/from Pandas with arrow"
   ]
  },
  {
   "cell_type": "code",
   "execution_count": 10,
   "metadata": {},
   "outputs": [],
   "source": [
    "# Enable Arrow-based columnar data transfers\n",
    "spark.conf.set(\"spark.sql.execution.arrow.enabled\", \"true\")\n",
    "\n",
    "# Generate a Pandas DataFrame\n",
    "pdf = pd.DataFrame(np.random.rand(100, 3))\n",
    "\n",
    "# Create a Spark DataFrame from a Pandas DataFrame using Arrow\n",
    "df = spark.createDataFrame(pdf)\n",
    "\n",
    "# Convert the Spark DataFrame back to a Pandas DataFrame using Arrow\n",
    "result_pdf = df.select(\"*\").toPandas()\n"
   ]
  },
  {
   "cell_type": "markdown",
   "metadata": {},
   "source": [
    "In this example, we count al quijote lines mentioning Dulcinea."
   ]
  },
  {
   "cell_type": "code",
   "execution_count": 11,
   "metadata": {},
   "outputs": [
    {
     "name": "stdout",
     "output_type": "stream",
     "text": [
      "There are 282 lines with 'Dulcinea'\n",
      "There are 12 lines with 'Dulcinea' and 'Quijote'\n"
     ]
    },
    {
     "data": {
      "text/plain": [
       "[Row(line='aquella noche no durmió don Quijote, pensando en su señora Dulcinea, por\\n'),\n",
       " Row(line='Quijote pedía, y sin preguntar quién Dulcinea fuese, le prometió que el\\n'),\n",
       " Row(line='Carta de don Quijote a Dulcinea del Toboso\\n'),\n",
       " Row(line='don Quijote que si, en nombrando a Dulcinea, no decía también del Toboso,\\n'),\n",
       " Row(line='Don Quijote, que tales blasfemias oyó decir contra su señora Dulcinea, no\\n'),\n",
       " Row(line='-Si no fue la que llevaste a la señora Dulcinea -replicó don Quijote-, yo\\n'),\n",
       " Row(line='a don Quijote que qué nuevas tenía de la señora Dulcinea, y que si le había\\n'),\n",
       " Row(line='-A eso puedo decir -respondió don Quijote- que Dulcinea es hija de sus\\n'),\n",
       " Row(line='Dulcinea del Toboso, ni le llevó la carta del señor don Quijote, porque se\\n'),\n",
       " Row(line='encantada Dulcinea; en don Quijote, por no poder asegurarse si era verdad o\\n'),\n",
       " Row(line='que pinta a don Quijote ya desenamorado de Dulcinea del Toboso.\\n'),\n",
       " Row(line='-No quiero saber más -dijo don Quijote-; que como yo vea a Dulcinea\\n')]"
      ]
     },
     "execution_count": 11,
     "metadata": {},
     "output_type": "execute_result"
    }
   ],
   "source": [
    "from pyspark.sql import SparkSession, Row\n",
    "from pyspark.sql.functions import col\n",
    "\n",
    "\n",
    "# Creates a DataFrame having a single column named \"line\"\n",
    "df = text_file.map(lambda r: Row(r)).toDF([\"line\"])\n",
    "dulcinea_lines = df.filter(col(\"line\").like(\"%Dulcinea%\"))\n",
    "# Counts all the Dulcinea lines\n",
    "print(\"There are {} lines with 'Dulcinea'\".format(dulcinea_lines.count()))\n",
    "# Counts lines mentioning Dulcinea and Quijote\n",
    "print(\"There are {} lines with 'Dulcinea' and 'Quijote'\".format(\n",
    "    dulcinea_lines.filter(col(\"line\").like(\"%Quijote%\")).count()))\n",
    "# Fetches the lines as an array of strings\n",
    "dulcinea_lines.filter(col(\"line\").like(\"%Quijote%\")).collect()"
   ]
  },
  {
   "cell_type": "markdown",
   "metadata": {},
   "source": [
    "### Exploring the superheroes dataset"
   ]
  },
  {
   "cell_type": "code",
   "execution_count": 15,
   "metadata": {},
   "outputs": [
    {
     "name": "stdout",
     "output_type": "stream",
     "text": [
      "+---------------+--------+--------+------+---------+------+------+------+--------+---------+---------+-------------+------+-----------+---------------+--------------------+\n",
      "|           Name|Identity|  Status|Gender|Alignment|  Race|Height|Weight|EyeColor|HairColor|SkinColor|    Publisher|  Year|Appearances|FirstAppearance|      AdditionalData|\n",
      "+---------------+--------+--------+------+---------+------+------+------+--------+---------+---------+-------------+------+-----------+---------------+--------------------+\n",
      "|     Spider-Man|  Secret|  Living|  Male|     Good| Human| 178.0|  74.0|   Hazel|    Brown|      NaN|Marvel Comics|1962.0|     4043.0|     1962-08-01|        Peter Parker|\n",
      "|     Spider-Man|  Secret|  Living|  Male|     Good| Human| 178.0|  77.0|     Red|    Brown|      NaN|Marvel Comics|1962.0|     4043.0|     1962-08-01|        Peter Parker|\n",
      "|     Spider-Man|  Secret|  Living|  Male|     Good| Human| 157.0|  56.0|   Brown|    Black|      NaN|Marvel Comics|1962.0|     4043.0|     1962-08-01|        Peter Parker|\n",
      "|Captain America|  Public|  Living|  Male|     Good| Human| 188.0| 108.0|    Blue|    Blond|      NaN|Marvel Comics|1941.0|     3360.0|     1941-03-01|       Steven Rogers|\n",
      "|Captain America|  Secret|  Living|  Male|     Good| Human| 188.0| 108.0|    Blue|    Blond|      NaN|Marvel Comics|1966.0|        1.0|     1966-10-01|Impersonator, Son...|\n",
      "|Captain America|  Secret|  Living|  Male|     Good| Human| 188.0| 108.0|    Blue|    Blond|      NaN|Marvel Comics|1998.0|        1.0|     1998-10-01|    Taskmaster Robot|\n",
      "|      Wolverine|  Public|  Living|  Male|     Good|Mutant| 160.0| 135.0|    Blue|    Black|      NaN|Marvel Comics|1974.0|     3061.0|     1974-10-01|James \"Logan\" How...|\n",
      "|      Wolverine|  Secret|  Living|  Male|     Good|Mutant| 160.0| 135.0|    Blue|    Black|      NaN|Marvel Comics|2012.0|        1.0|     2012-12-01|          Hatchitech|\n",
      "|       Iron Man|  Public|  Living|  Male|     Good| Human| 198.0| 191.0|    Blue|    Black|      NaN|Marvel Comics|1963.0|     2961.0|     1963-03-01|Anthony \"Tony\" Stark|\n",
      "|       Iron Man|  Public|Deceased|  Male|     Good| Human| 198.0| 191.0|    Blue|    Black|      NaN|Marvel Comics|2000.0|        4.0|     2000-03-01|      Sentient Armor|\n",
      "+---------------+--------+--------+------+---------+------+------+------+--------+---------+---------+-------------+------+-----------+---------------+--------------------+\n",
      "only showing top 10 rows\n",
      "\n"
     ]
    }
   ],
   "source": [
    "from pyspark.sql.types import *\n",
    "\n",
    "# To avoid copying a local file to all workers we create pandas dataframe at driver and convert to spark dataframe\n",
    "# To Enable Arrow-based columnar data transfers\n",
    "spark.conf.set(\"spark.sql.execution.arrow.enabled\", \"true\")\n",
    "superhero_pdf = pd.read_csv(\"../datasets/superheroes_info.csv\",index_col='Index')\n",
    "\n",
    "\n",
    "# We explicitly set schema to avoid problems with mapping pandas NaN Strings to SparkDataframe\n",
    "# If not set,  Spark will try to convert NaN to DoubleType wiht error -> Can not merge type <class 'pyspark.sql.types.StringType'> and <class 'pyspark.sql.types.DoubleType'>\n",
    "mapping = {'object': StringType, 'float64': FloatType}\n",
    "superhero_df = spark.createDataFrame(superhero_pdf, schema= StructType( [StructField(name, mapping[dtype.name]()) for name,dtype in superhero_pdf.dtypes.iteritems() ]))\n",
    "\n",
    "superhero_df.show(10)\n"
   ]
  },
  {
   "cell_type": "code",
   "execution_count": 16,
   "metadata": {},
   "outputs": [
    {
     "name": "stdout",
     "output_type": "stream",
     "text": [
      "+-----------------+-----+\n",
      "|        Publisher|count|\n",
      "+-----------------+-----+\n",
      "|        Rebellion|    1|\n",
      "|               DC| 6808|\n",
      "|    HarperCollins|    7|\n",
      "| J. R. R. Tolkien|    1|\n",
      "|        Star Trek|    6|\n",
      "|    Marvel Comics|  482|\n",
      "|        Wildstorm|    3|\n",
      "|       South Park|    1|\n",
      "|    Sony Pictures|    2|\n",
      "|      Titan Books|    1|\n",
      "|      ABC Studios|    4|\n",
      "|             SyFy|    5|\n",
      "|     Image Comics|   15|\n",
      "|Universal Studios|    1|\n",
      "|   IDW Publishing|    4|\n",
      "|           Marvel|16109|\n",
      "|     NBC - Heroes|   19|\n",
      "|              NaN|   13|\n",
      "|    Hanna-Barbera|    1|\n",
      "|        DC Comics|  241|\n",
      "+-----------------+-----+\n",
      "only showing top 20 rows\n",
      "\n"
     ]
    }
   ],
   "source": [
    "from pyspark.sql.functions import isnan, when, count, col\n",
    "df=superhero_df \n",
    "publisher_df = superhero_df.groupby(\"Publisher\").count().show()"
   ]
  },
  {
   "cell_type": "markdown",
   "metadata": {},
   "source": [
    "### Spark SQL Example"
   ]
  },
  {
   "cell_type": "code",
   "execution_count": 7,
   "metadata": {},
   "outputs": [
    {
     "name": "stdout",
     "output_type": "stream",
     "text": [
      "+---------------+------+--------+\n",
      "|           Name|Gender|  Status|\n",
      "+---------------+------+--------+\n",
      "|     Spider-Man|  Male|  Living|\n",
      "|     Spider-Man|  Male|  Living|\n",
      "|     Spider-Man|  Male|  Living|\n",
      "|Captain America|  Male|  Living|\n",
      "|Captain America|  Male|  Living|\n",
      "|Captain America|  Male|  Living|\n",
      "|      Wolverine|  Male|  Living|\n",
      "|      Wolverine|  Male|  Living|\n",
      "|       Iron Man|  Male|  Living|\n",
      "|       Iron Man|  Male|Deceased|\n",
      "|       Iron Man|  Male|  Living|\n",
      "|           Thor|  Male|  Living|\n",
      "|           Thor|  Male|  Living|\n",
      "|           Thor|  Male|  Living|\n",
      "|           Thor|  Male|  Living|\n",
      "| Benjamin Grimm|  Male|  Living|\n",
      "| Benjamin Grimm|  Male|  Living|\n",
      "| Benjamin Grimm|  Male|Deceased|\n",
      "| Benjamin Grimm|  Male|  Living|\n",
      "| Benjamin Grimm|  Male|  Living|\n",
      "+---------------+------+--------+\n",
      "only showing top 20 rows\n",
      "\n"
     ]
    }
   ],
   "source": [
    "superhero_df.createOrReplaceTempView(\"superhero_table\")\n",
    "spark.sql(\"select Name,Gender,Status from superhero_table\").show()"
   ]
  }
 ],
 "metadata": {
  "kernelspec": {
   "display_name": "PySpark",
   "language": "python",
   "name": "pyspark"
  },
  "language_info": {
   "codemirror_mode": {
    "name": "ipython",
    "version": 3
   },
   "file_extension": ".py",
   "mimetype": "text/x-python",
   "name": "python",
   "nbconvert_exporter": "python",
   "pygments_lexer": "ipython3",
   "version": "3.6.6"
  },
  "toc": {
   "base_numbering": 1,
   "nav_menu": {},
   "number_sections": false,
   "sideBar": false,
   "skip_h1_title": false,
   "title_cell": "Table of Contents",
   "title_sidebar": "Contents",
   "toc_cell": false,
   "toc_position": {},
   "toc_section_display": false,
   "toc_window_display": false
  }
 },
 "nbformat": 4,
 "nbformat_minor": 2
}

{
 "cells": [
  {
   "cell_type": "markdown",
   "metadata": {},
   "source": [
    "\n",
    "# SparkR tutorial Notebook\n",
    "This is a notebook version of the [SparkR Documentation](http://spark.apache.org/docs/2.4.0/sparkr.html)\n",
    "## Overview\n",
    "SparkR is an R package that provides a light-weight frontend to use Apache Spark from R. In Spark 2.4.0, SparkR provides a distributed data frame implementation that supports operations like selection, filtering, aggregation etc. (similar to R data frames, dplyr) but on large datasets. SparkR also supports distributed machine learning using MLlib.\n",
    "\n",
    "# SparkDataFrame\n",
    "A SparkDataFrame is a distributed collection of data organized into named columns. It is conceptually equivalent to a table in a relational database or a data frame in R, but with richer optimizations under the hood. SparkDataFrames can be constructed from a wide array of sources such as: structured data files, tables in Hive, external databases, or existing local R data frames.\n",
    "\n",
    "All of the examples on this page use sample data included in R or the Spark distribution and can be run using the ./bin/sparkR shell.\n",
    "\n",
    "## Starting Up: SparkSession\n",
    "Y\n",
    "ou can start SparkR from Jupyter R Kernel. You can connect your R program to a Spark cluster from RStudio, R shell, Rscript or other R IDEs. To start, make sure SPARK_HOME is set in environment (you can check Sys.getenv), load the SparkR package, and call sparkR.session as below. It will check for the Spark installation, and, if not found, it will be downloaded and cached automatically. Alternatively, you can also run install.spark manually.\n",
    "\n",
    "In addition to calling sparkR.session, you could also specify certain Spark driver properties. Normally these Application properties and Runtime Environment cannot be set programmatically, as the driver JVM process would have been started, in this case SparkR takes care of this for you. To set them, pass them as you would other configuration properties in the sparkConfig argument to sparkR.session()."
   ]
  },
  {
   "cell_type": "code",
   "execution_count": 1,
   "metadata": {},
   "outputs": [
    {
     "name": "stderr",
     "output_type": "stream",
     "text": [
      "\n",
      "Attaching package: ‘SparkR’\n",
      "\n",
      "The following objects are masked from ‘package:stats’:\n",
      "\n",
      "    cov, filter, lag, na.omit, predict, sd, var, window\n",
      "\n",
      "The following objects are masked from ‘package:base’:\n",
      "\n",
      "    as.data.frame, colnames, colnames<-, drop, endsWith, intersect,\n",
      "    rank, rbind, sample, startsWith, subset, summary, transform, union\n",
      "\n",
      "Spark package found in SPARK_HOME: /opt/spark\n"
     ]
    },
    {
     "name": "stdout",
     "output_type": "stream",
     "text": [
      "Launching java with spark-submit command /opt/spark/bin/spark-submit   --driver-memory \"2g\" sparkr-shell /tmp/RtmpPDaHJi/backend_port126951c03b \n"
     ]
    },
    {
     "data": {
      "text/plain": [
       "Java ref type org.apache.spark.sql.SparkSession id 1 "
      ]
     },
     "metadata": {},
     "output_type": "display_data"
    }
   ],
   "source": [
    "if (nchar(Sys.getenv(\"SPARK_HOME\")) < 1) {\n",
    "  Sys.setenv(SPARK_HOME = \"/home/spark\")\n",
    "}\n",
    "library(SparkR, lib.loc = c(file.path(Sys.getenv(\"SPARK_HOME\"), \"R\", \"lib\")))\n",
    "sparkR.session(master = \"local[*]\", sparkConfig = list(spark.driver.memory = \"2g\"))"
   ]
  },
  {
   "cell_type": "markdown",
   "metadata": {},
   "source": [
    "The following Spark driver properties can be set in sparkConfig with sparkR.session from RStudio:\n",
    "\n",
    "Property Name | Property group | spark-submit equivalent\n",
    " --- | --- | --- \n",
    "spark.master |\tApplication Properties\t| --master\n",
    "spark.yarn.keytab|Application Properties|\t--keytab\n",
    "spark.yarn.principal|\tApplication Properties|\t--principal\n",
    "spark.driver.memory|\tApplication Properties|\t--driver-memory\n",
    "spark.driver.extraClassPath|\tRuntime Environment|\t--driver-class-path\n",
    "spark.driver.extraJavaOptions|\tRuntime Environment|\t--driver-java-options\n",
    "spark.driver.extraLibraryPath|\tRuntime Environment|\t--driver-library-path"
   ]
  },
  {
   "cell_type": "markdown",
   "metadata": {},
   "source": [
    "## Creating SparkDataFrames\n",
    "With a SparkSession, applications can create SparkDataFrames from a local R data frame, from a Hive table, or from other data sources.\n",
    "\n",
    "### From local data frames\n",
    "The simplest way to create a data frame is to convert a local R data frame into a SparkDataFrame. Specifically, we can use as.DataFrame or createDataFrame and pass in the local R data frame to create a SparkDataFrame. As an example, the following creates a SparkDataFrame based using the faithful dataset from R."
   ]
  },
  {
   "cell_type": "code",
   "execution_count": 4,
   "metadata": {},
   "outputs": [
    {
     "data": {
      "text/html": [
       "<table>\n",
       "<thead><tr><th scope=col>eruptions</th><th scope=col>waiting</th></tr></thead>\n",
       "<tbody>\n",
       "\t<tr><td>3.600</td><td>79   </td></tr>\n",
       "\t<tr><td>1.800</td><td>54   </td></tr>\n",
       "\t<tr><td>3.333</td><td>74   </td></tr>\n",
       "\t<tr><td>2.283</td><td>62   </td></tr>\n",
       "\t<tr><td>4.533</td><td>85   </td></tr>\n",
       "\t<tr><td>2.883</td><td>55   </td></tr>\n",
       "</tbody>\n",
       "</table>\n"
      ],
      "text/latex": [
       "\\begin{tabular}{r|ll}\n",
       " eruptions & waiting\\\\\n",
       "\\hline\n",
       "\t 3.600 & 79   \\\\\n",
       "\t 1.800 & 54   \\\\\n",
       "\t 3.333 & 74   \\\\\n",
       "\t 2.283 & 62   \\\\\n",
       "\t 4.533 & 85   \\\\\n",
       "\t 2.883 & 55   \\\\\n",
       "\\end{tabular}\n"
      ],
      "text/markdown": [
       "\n",
       "eruptions | waiting | \n",
       "|---|---|---|---|---|---|\n",
       "| 3.600 | 79    | \n",
       "| 1.800 | 54    | \n",
       "| 3.333 | 74    | \n",
       "| 2.283 | 62    | \n",
       "| 4.533 | 85    | \n",
       "| 2.883 | 55    | \n",
       "\n",
       "\n"
      ],
      "text/plain": [
       "  eruptions waiting\n",
       "1 3.600     79     \n",
       "2 1.800     54     \n",
       "3 3.333     74     \n",
       "4 2.283     62     \n",
       "5 4.533     85     \n",
       "6 2.883     55     "
      ]
     },
     "metadata": {},
     "output_type": "display_data"
    }
   ],
   "source": [
    "df <- as.DataFrame(faithful)\n",
    "# Displays the first part of the SparkDataFrame\n",
    "head(df)"
   ]
  },
  {
   "cell_type": "markdown",
   "metadata": {},
   "source": [
    "### From Data Sources\n",
    "SparkR supports operating on a variety of data sources through the SparkDataFrame interface. This section describes the general methods for loading and saving data using Data Sources. You can check the Spark SQL programming guide for more specific options that are available for the built-in data sources.\n",
    "\n",
    "The general method for creating SparkDataFrames from data sources is read.df. This method takes in the path for the file to load and the type of data source, and the currently active SparkSession will be used automatically. SparkR supports reading JSON, CSV and Parquet files natively, and through packages available from sources like Third Party Projects, you can find data source connectors for popular file formats like Avro. These packages can either be added by specifying --packages with spark-submit or sparkR commands, or if initializing SparkSession with sparkPackages parameter when in an interactive R shell or from RStudio."
   ]
  },
  {
   "cell_type": "code",
   "execution_count": 5,
   "metadata": {},
   "outputs": [
    {
     "data": {
      "text/plain": [
       "Java ref type org.apache.spark.sql.SparkSession id 1 "
      ]
     },
     "metadata": {},
     "output_type": "display_data"
    }
   ],
   "source": [
    "sparkR.session(sparkPackages = \"com.databricks:spark-avro_2.11:3.0.0\")"
   ]
  },
  {
   "cell_type": "markdown",
   "metadata": {},
   "source": [
    "We can see how to use data sources using an example JSON input file. Note that the file that is used here is not a typical JSON file. Each line in the file must contain a separate, self-contained valid JSON object. For more information, please see JSON Lines text format, also called newline-delimited JSON. As a consequence, a regular multi-line JSON file will most often fail."
   ]
  },
  {
   "cell_type": "code",
   "execution_count": 6,
   "metadata": {},
   "outputs": [
    {
     "data": {
      "text/html": [
       "<table>\n",
       "<thead><tr><th scope=col>age</th><th scope=col>name</th></tr></thead>\n",
       "<tbody>\n",
       "\t<tr><td>NA     </td><td>Michael</td></tr>\n",
       "\t<tr><td>30     </td><td>Andy   </td></tr>\n",
       "\t<tr><td>19     </td><td>Justin </td></tr>\n",
       "</tbody>\n",
       "</table>\n"
      ],
      "text/latex": [
       "\\begin{tabular}{r|ll}\n",
       " age & name\\\\\n",
       "\\hline\n",
       "\t NA      & Michael\\\\\n",
       "\t 30      & Andy   \\\\\n",
       "\t 19      & Justin \\\\\n",
       "\\end{tabular}\n"
      ],
      "text/markdown": [
       "\n",
       "age | name | \n",
       "|---|---|---|\n",
       "| NA      | Michael | \n",
       "| 30      | Andy    | \n",
       "| 19      | Justin  | \n",
       "\n",
       "\n"
      ],
      "text/plain": [
       "  age name   \n",
       "1 NA  Michael\n",
       "2 30  Andy   \n",
       "3 19  Justin "
      ]
     },
     "metadata": {},
     "output_type": "display_data"
    }
   ],
   "source": [
    "people <- read.df(\"/opt/spark/examples/src/main/resources/people.json\", \"json\")\n",
    "head(people)"
   ]
  },
  {
   "cell_type": "markdown",
   "metadata": {},
   "source": [
    "SparkR automatically infers the schema from the JSON file"
   ]
  },
  {
   "cell_type": "code",
   "execution_count": 7,
   "metadata": {},
   "outputs": [
    {
     "name": "stdout",
     "output_type": "stream",
     "text": [
      "root\n",
      " |-- age: long (nullable = true)\n",
      " |-- name: string (nullable = true)\n"
     ]
    }
   ],
   "source": [
    "printSchema(people)"
   ]
  },
  {
   "cell_type": "markdown",
   "metadata": {},
   "source": [
    "Similarly, multiple files can be read with read.json"
   ]
  },
  {
   "cell_type": "code",
   "execution_count": 9,
   "metadata": {},
   "outputs": [],
   "source": [
    "people <- read.json(c(\"/opt/spark/examples/src/main/resources/people.json\", \"/opt/spark/examples/src/main/resources/people.json\"))"
   ]
  },
  {
   "cell_type": "markdown",
   "metadata": {},
   "source": [
    "The data sources API natively supports CSV formatted input files. For more information please refer to SparkR [read.df](http://spark.apache.org/docs/latest/api/R/read.df.html) API documentation."
   ]
  },
  {
   "cell_type": "code",
   "execution_count": 10,
   "metadata": {},
   "outputs": [],
   "source": [
    "csvPath <- \"/opt/spark/examples/src/main/resources/people.csv\"\n",
    "df <- read.df(csvPath, \"csv\", header = \"true\", inferSchema = \"true\", na.strings = \"NA\", delimiter=\";\")"
   ]
  },
  {
   "cell_type": "code",
   "execution_count": 11,
   "metadata": {},
   "outputs": [
    {
     "data": {
      "text/html": [
       "<table>\n",
       "<thead><tr><th scope=col>name</th><th scope=col>age</th><th scope=col>job</th></tr></thead>\n",
       "<tbody>\n",
       "\t<tr><td>Jorge    </td><td>30       </td><td>Developer</td></tr>\n",
       "\t<tr><td>Bob      </td><td>32       </td><td>Developer</td></tr>\n",
       "</tbody>\n",
       "</table>\n"
      ],
      "text/latex": [
       "\\begin{tabular}{r|lll}\n",
       " name & age & job\\\\\n",
       "\\hline\n",
       "\t Jorge     & 30        & Developer\\\\\n",
       "\t Bob       & 32        & Developer\\\\\n",
       "\\end{tabular}\n"
      ],
      "text/markdown": [
       "\n",
       "name | age | job | \n",
       "|---|---|\n",
       "| Jorge     | 30        | Developer | \n",
       "| Bob       | 32        | Developer | \n",
       "\n",
       "\n"
      ],
      "text/plain": [
       "  name  age job      \n",
       "1 Jorge 30  Developer\n",
       "2 Bob   32  Developer"
      ]
     },
     "metadata": {},
     "output_type": "display_data"
    }
   ],
   "source": [
    "head(df)"
   ]
  },
  {
   "cell_type": "markdown",
   "metadata": {},
   "source": [
    "### From Hive tables (NOT DONE)\n",
    "You can also create SparkDataFrames from Hive tables. To do this we will need to create a SparkSession with Hive support which can access tables in the Hive MetaStore. Note that Spark should have been built with Hive support and more details can be found in the SQL programming guide. In SparkR, by default it will attempt to create a SparkSession with Hive support enabled (enableHiveSupport = TRUE)."
   ]
  },
  {
   "cell_type": "markdown",
   "metadata": {},
   "source": [
    "# SparkDataFrame Operations\n",
    "SparkDataFrames support a number of functions to do structured data processing. Here we include some basic examples and a complete list can be found in the API docs:\n",
    "\n",
    "## Selecting rows, columns"
   ]
  },
  {
   "cell_type": "code",
   "execution_count": 12,
   "metadata": {},
   "outputs": [
    {
     "data": {
      "text/plain": [
       "SparkDataFrame[eruptions:double, waiting:double]"
      ]
     },
     "metadata": {},
     "output_type": "display_data"
    }
   ],
   "source": [
    "df <- as.DataFrame(faithful)\n",
    "# Get basic information about the SparkDataFrame\n",
    "df"
   ]
  },
  {
   "cell_type": "code",
   "execution_count": 13,
   "metadata": {},
   "outputs": [
    {
     "data": {
      "text/html": [
       "<table>\n",
       "<thead><tr><th scope=col>eruptions</th></tr></thead>\n",
       "<tbody>\n",
       "\t<tr><td>3.600</td></tr>\n",
       "\t<tr><td>1.800</td></tr>\n",
       "\t<tr><td>3.333</td></tr>\n",
       "\t<tr><td>2.283</td></tr>\n",
       "\t<tr><td>4.533</td></tr>\n",
       "\t<tr><td>2.883</td></tr>\n",
       "</tbody>\n",
       "</table>\n"
      ],
      "text/latex": [
       "\\begin{tabular}{r|l}\n",
       " eruptions\\\\\n",
       "\\hline\n",
       "\t 3.600\\\\\n",
       "\t 1.800\\\\\n",
       "\t 3.333\\\\\n",
       "\t 2.283\\\\\n",
       "\t 4.533\\\\\n",
       "\t 2.883\\\\\n",
       "\\end{tabular}\n"
      ],
      "text/markdown": [
       "\n",
       "eruptions | \n",
       "|---|---|---|---|---|---|\n",
       "| 3.600 | \n",
       "| 1.800 | \n",
       "| 3.333 | \n",
       "| 2.283 | \n",
       "| 4.533 | \n",
       "| 2.883 | \n",
       "\n",
       "\n"
      ],
      "text/plain": [
       "  eruptions\n",
       "1 3.600    \n",
       "2 1.800    \n",
       "3 3.333    \n",
       "4 2.283    \n",
       "5 4.533    \n",
       "6 2.883    "
      ]
     },
     "metadata": {},
     "output_type": "display_data"
    }
   ],
   "source": [
    "# Select only the \"eruptions\" column\n",
    "head(select(df, df$eruptions))"
   ]
  },
  {
   "cell_type": "code",
   "execution_count": 14,
   "metadata": {},
   "outputs": [
    {
     "data": {
      "text/html": [
       "<table>\n",
       "<thead><tr><th scope=col>eruptions</th></tr></thead>\n",
       "<tbody>\n",
       "\t<tr><td>3.600</td></tr>\n",
       "\t<tr><td>1.800</td></tr>\n",
       "\t<tr><td>3.333</td></tr>\n",
       "\t<tr><td>2.283</td></tr>\n",
       "\t<tr><td>4.533</td></tr>\n",
       "\t<tr><td>2.883</td></tr>\n",
       "</tbody>\n",
       "</table>\n"
      ],
      "text/latex": [
       "\\begin{tabular}{r|l}\n",
       " eruptions\\\\\n",
       "\\hline\n",
       "\t 3.600\\\\\n",
       "\t 1.800\\\\\n",
       "\t 3.333\\\\\n",
       "\t 2.283\\\\\n",
       "\t 4.533\\\\\n",
       "\t 2.883\\\\\n",
       "\\end{tabular}\n"
      ],
      "text/markdown": [
       "\n",
       "eruptions | \n",
       "|---|---|---|---|---|---|\n",
       "| 3.600 | \n",
       "| 1.800 | \n",
       "| 3.333 | \n",
       "| 2.283 | \n",
       "| 4.533 | \n",
       "| 2.883 | \n",
       "\n",
       "\n"
      ],
      "text/plain": [
       "  eruptions\n",
       "1 3.600    \n",
       "2 1.800    \n",
       "3 3.333    \n",
       "4 2.283    \n",
       "5 4.533    \n",
       "6 2.883    "
      ]
     },
     "metadata": {},
     "output_type": "display_data"
    }
   ],
   "source": [
    "# You can also pass in column name as strings\n",
    "head(select(df, \"eruptions\"))"
   ]
  },
  {
   "cell_type": "code",
   "execution_count": 15,
   "metadata": {},
   "outputs": [
    {
     "data": {
      "text/html": [
       "<table>\n",
       "<thead><tr><th scope=col>eruptions</th><th scope=col>waiting</th></tr></thead>\n",
       "<tbody>\n",
       "\t<tr><td>1.750</td><td>47   </td></tr>\n",
       "\t<tr><td>1.750</td><td>47   </td></tr>\n",
       "\t<tr><td>1.867</td><td>48   </td></tr>\n",
       "\t<tr><td>1.750</td><td>48   </td></tr>\n",
       "\t<tr><td>2.167</td><td>48   </td></tr>\n",
       "\t<tr><td>2.100</td><td>49   </td></tr>\n",
       "</tbody>\n",
       "</table>\n"
      ],
      "text/latex": [
       "\\begin{tabular}{r|ll}\n",
       " eruptions & waiting\\\\\n",
       "\\hline\n",
       "\t 1.750 & 47   \\\\\n",
       "\t 1.750 & 47   \\\\\n",
       "\t 1.867 & 48   \\\\\n",
       "\t 1.750 & 48   \\\\\n",
       "\t 2.167 & 48   \\\\\n",
       "\t 2.100 & 49   \\\\\n",
       "\\end{tabular}\n"
      ],
      "text/markdown": [
       "\n",
       "eruptions | waiting | \n",
       "|---|---|---|---|---|---|\n",
       "| 1.750 | 47    | \n",
       "| 1.750 | 47    | \n",
       "| 1.867 | 48    | \n",
       "| 1.750 | 48    | \n",
       "| 2.167 | 48    | \n",
       "| 2.100 | 49    | \n",
       "\n",
       "\n"
      ],
      "text/plain": [
       "  eruptions waiting\n",
       "1 1.750     47     \n",
       "2 1.750     47     \n",
       "3 1.867     48     \n",
       "4 1.750     48     \n",
       "5 2.167     48     \n",
       "6 2.100     49     "
      ]
     },
     "metadata": {},
     "output_type": "display_data"
    }
   ],
   "source": [
    "# Filter the SparkDataFrame to only retain rows with wait times shorter than 50 mins\n",
    "head(filter(df, df$waiting < 50))\n",
    "##  eruptions waiting\n",
    "##1     1.750      47\n",
    "##2     1.750      47\n",
    "##3     1.867      48"
   ]
  },
  {
   "cell_type": "markdown",
   "metadata": {},
   "source": [
    "## Grouping, Aggregation\n",
    "SparkR data frames support a number of commonly used functions to aggregate data after grouping. For example, we can compute a histogram of the waiting time in the faithful dataset as shown below"
   ]
  },
  {
   "cell_type": "code",
   "execution_count": 16,
   "metadata": {},
   "outputs": [
    {
     "data": {
      "text/html": [
       "<table>\n",
       "<thead><tr><th scope=col>waiting</th><th scope=col>count</th></tr></thead>\n",
       "<tbody>\n",
       "\t<tr><td>70</td><td>4 </td></tr>\n",
       "\t<tr><td>67</td><td>1 </td></tr>\n",
       "\t<tr><td>69</td><td>2 </td></tr>\n",
       "\t<tr><td>88</td><td>6 </td></tr>\n",
       "\t<tr><td>49</td><td>5 </td></tr>\n",
       "\t<tr><td>64</td><td>4 </td></tr>\n",
       "</tbody>\n",
       "</table>\n"
      ],
      "text/latex": [
       "\\begin{tabular}{r|ll}\n",
       " waiting & count\\\\\n",
       "\\hline\n",
       "\t 70 & 4 \\\\\n",
       "\t 67 & 1 \\\\\n",
       "\t 69 & 2 \\\\\n",
       "\t 88 & 6 \\\\\n",
       "\t 49 & 5 \\\\\n",
       "\t 64 & 4 \\\\\n",
       "\\end{tabular}\n"
      ],
      "text/markdown": [
       "\n",
       "waiting | count | \n",
       "|---|---|---|---|---|---|\n",
       "| 70 | 4  | \n",
       "| 67 | 1  | \n",
       "| 69 | 2  | \n",
       "| 88 | 6  | \n",
       "| 49 | 5  | \n",
       "| 64 | 4  | \n",
       "\n",
       "\n"
      ],
      "text/plain": [
       "  waiting count\n",
       "1 70      4    \n",
       "2 67      1    \n",
       "3 69      2    \n",
       "4 88      6    \n",
       "5 49      5    \n",
       "6 64      4    "
      ]
     },
     "metadata": {},
     "output_type": "display_data"
    }
   ],
   "source": [
    "# We use the `n` operator to count the number of times each waiting time appears\n",
    "head(summarize(groupBy(df, df$waiting), count = n(df$waiting)))"
   ]
  },
  {
   "cell_type": "code",
   "execution_count": 17,
   "metadata": {},
   "outputs": [
    {
     "data": {
      "text/html": [
       "<table>\n",
       "<thead><tr><th scope=col>waiting</th><th scope=col>count</th></tr></thead>\n",
       "<tbody>\n",
       "\t<tr><td>78</td><td>15</td></tr>\n",
       "\t<tr><td>83</td><td>14</td></tr>\n",
       "\t<tr><td>81</td><td>13</td></tr>\n",
       "\t<tr><td>77</td><td>12</td></tr>\n",
       "\t<tr><td>82</td><td>12</td></tr>\n",
       "\t<tr><td>79</td><td>10</td></tr>\n",
       "</tbody>\n",
       "</table>\n"
      ],
      "text/latex": [
       "\\begin{tabular}{r|ll}\n",
       " waiting & count\\\\\n",
       "\\hline\n",
       "\t 78 & 15\\\\\n",
       "\t 83 & 14\\\\\n",
       "\t 81 & 13\\\\\n",
       "\t 77 & 12\\\\\n",
       "\t 82 & 12\\\\\n",
       "\t 79 & 10\\\\\n",
       "\\end{tabular}\n"
      ],
      "text/markdown": [
       "\n",
       "waiting | count | \n",
       "|---|---|---|---|---|---|\n",
       "| 78 | 15 | \n",
       "| 83 | 14 | \n",
       "| 81 | 13 | \n",
       "| 77 | 12 | \n",
       "| 82 | 12 | \n",
       "| 79 | 10 | \n",
       "\n",
       "\n"
      ],
      "text/plain": [
       "  waiting count\n",
       "1 78      15   \n",
       "2 83      14   \n",
       "3 81      13   \n",
       "4 77      12   \n",
       "5 82      12   \n",
       "6 79      10   "
      ]
     },
     "metadata": {},
     "output_type": "display_data"
    }
   ],
   "source": [
    "# We can also sort the output from the aggregation to get the most common waiting times\n",
    "waiting_counts <- summarize(groupBy(df, df$waiting), count = n(df$waiting))\n",
    "head(arrange(waiting_counts, desc(waiting_counts$count)))"
   ]
  },
  {
   "cell_type": "markdown",
   "metadata": {},
   "source": [
    "In addition to standard aggregations, SparkR supports OLAP cube operators cube:"
   ]
  },
  {
   "cell_type": "code",
   "execution_count": 18,
   "metadata": {},
   "outputs": [
    {
     "data": {
      "text/html": [
       "<table>\n",
       "<thead><tr><th scope=col>cyl</th><th scope=col>disp</th><th scope=col>gear</th><th scope=col>avg(mpg)</th></tr></thead>\n",
       "<tbody>\n",
       "\t<tr><td>NA   </td><td>140.8</td><td> 4   </td><td>22.8 </td></tr>\n",
       "\t<tr><td> 4   </td><td> 75.7</td><td> 4   </td><td>30.4 </td></tr>\n",
       "\t<tr><td> 8   </td><td>400.0</td><td> 3   </td><td>19.2 </td></tr>\n",
       "\t<tr><td> 8   </td><td>318.0</td><td> 3   </td><td>15.5 </td></tr>\n",
       "\t<tr><td>NA   </td><td>351.0</td><td>NA   </td><td>15.8 </td></tr>\n",
       "\t<tr><td>NA   </td><td>275.8</td><td>NA   </td><td>16.3 </td></tr>\n",
       "</tbody>\n",
       "</table>\n"
      ],
      "text/latex": [
       "\\begin{tabular}{r|llll}\n",
       " cyl & disp & gear & avg(mpg)\\\\\n",
       "\\hline\n",
       "\t NA    & 140.8 &  4    & 22.8 \\\\\n",
       "\t  4    &  75.7 &  4    & 30.4 \\\\\n",
       "\t  8    & 400.0 &  3    & 19.2 \\\\\n",
       "\t  8    & 318.0 &  3    & 15.5 \\\\\n",
       "\t NA    & 351.0 & NA    & 15.8 \\\\\n",
       "\t NA    & 275.8 & NA    & 16.3 \\\\\n",
       "\\end{tabular}\n"
      ],
      "text/markdown": [
       "\n",
       "cyl | disp | gear | avg(mpg) | \n",
       "|---|---|---|---|---|---|\n",
       "| NA    | 140.8 |  4    | 22.8  | \n",
       "|  4    |  75.7 |  4    | 30.4  | \n",
       "|  8    | 400.0 |  3    | 19.2  | \n",
       "|  8    | 318.0 |  3    | 15.5  | \n",
       "| NA    | 351.0 | NA    | 15.8  | \n",
       "| NA    | 275.8 | NA    | 16.3  | \n",
       "\n",
       "\n"
      ],
      "text/plain": [
       "  cyl disp  gear avg(mpg)\n",
       "1 NA  140.8  4   22.8    \n",
       "2  4   75.7  4   30.4    \n",
       "3  8  400.0  3   19.2    \n",
       "4  8  318.0  3   15.5    \n",
       "5 NA  351.0 NA   15.8    \n",
       "6 NA  275.8 NA   16.3    "
      ]
     },
     "metadata": {},
     "output_type": "display_data"
    }
   ],
   "source": [
    "df <- as.DataFrame(mtcars)\n",
    "head(agg(cube(df, \"cyl\", \"disp\", \"gear\"), avg(df$mpg)))"
   ]
  },
  {
   "cell_type": "markdown",
   "metadata": {},
   "source": [
    "and rollup:"
   ]
  },
  {
   "cell_type": "code",
   "execution_count": 19,
   "metadata": {},
   "outputs": [
    {
     "data": {
      "text/html": [
       "<table>\n",
       "<thead><tr><th scope=col>cyl</th><th scope=col>disp</th><th scope=col>gear</th><th scope=col>avg(mpg)</th></tr></thead>\n",
       "<tbody>\n",
       "\t<tr><td>4    </td><td> 75.7</td><td> 4   </td><td>30.4 </td></tr>\n",
       "\t<tr><td>8    </td><td>400.0</td><td> 3   </td><td>19.2 </td></tr>\n",
       "\t<tr><td>8    </td><td>318.0</td><td> 3   </td><td>15.5 </td></tr>\n",
       "\t<tr><td>4    </td><td> 78.7</td><td>NA   </td><td>32.4 </td></tr>\n",
       "\t<tr><td>8    </td><td>304.0</td><td> 3   </td><td>15.2 </td></tr>\n",
       "\t<tr><td>4    </td><td> 79.0</td><td>NA   </td><td>27.3 </td></tr>\n",
       "</tbody>\n",
       "</table>\n"
      ],
      "text/latex": [
       "\\begin{tabular}{r|llll}\n",
       " cyl & disp & gear & avg(mpg)\\\\\n",
       "\\hline\n",
       "\t 4     &  75.7 &  4    & 30.4 \\\\\n",
       "\t 8     & 400.0 &  3    & 19.2 \\\\\n",
       "\t 8     & 318.0 &  3    & 15.5 \\\\\n",
       "\t 4     &  78.7 & NA    & 32.4 \\\\\n",
       "\t 8     & 304.0 &  3    & 15.2 \\\\\n",
       "\t 4     &  79.0 & NA    & 27.3 \\\\\n",
       "\\end{tabular}\n"
      ],
      "text/markdown": [
       "\n",
       "cyl | disp | gear | avg(mpg) | \n",
       "|---|---|---|---|---|---|\n",
       "| 4     |  75.7 |  4    | 30.4  | \n",
       "| 8     | 400.0 |  3    | 19.2  | \n",
       "| 8     | 318.0 |  3    | 15.5  | \n",
       "| 4     |  78.7 | NA    | 32.4  | \n",
       "| 8     | 304.0 |  3    | 15.2  | \n",
       "| 4     |  79.0 | NA    | 27.3  | \n",
       "\n",
       "\n"
      ],
      "text/plain": [
       "  cyl disp  gear avg(mpg)\n",
       "1 4    75.7  4   30.4    \n",
       "2 8   400.0  3   19.2    \n",
       "3 8   318.0  3   15.5    \n",
       "4 4    78.7 NA   32.4    \n",
       "5 8   304.0  3   15.2    \n",
       "6 4    79.0 NA   27.3    "
      ]
     },
     "metadata": {},
     "output_type": "display_data"
    }
   ],
   "source": [
    "head(agg(rollup(df, \"cyl\", \"disp\", \"gear\"), avg(df$mpg)))"
   ]
  },
  {
   "cell_type": "markdown",
   "metadata": {},
   "source": [
    "## Operating on Columns\n",
    "SparkR also provides a number of functions that can directly applied to columns for data processing and during aggregation. The example below shows the use of basic arithmetic functions."
   ]
  },
  {
   "cell_type": "code",
   "execution_count": 20,
   "metadata": {},
   "outputs": [
    {
     "data": {
      "text/html": [
       "<table>\n",
       "<thead><tr><th scope=col>eruptions</th><th scope=col>waiting</th><th scope=col>waiting_secs</th></tr></thead>\n",
       "<tbody>\n",
       "\t<tr><td>3.600</td><td>79   </td><td>4740 </td></tr>\n",
       "\t<tr><td>1.800</td><td>54   </td><td>3240 </td></tr>\n",
       "\t<tr><td>3.333</td><td>74   </td><td>4440 </td></tr>\n",
       "\t<tr><td>2.283</td><td>62   </td><td>3720 </td></tr>\n",
       "\t<tr><td>4.533</td><td>85   </td><td>5100 </td></tr>\n",
       "\t<tr><td>2.883</td><td>55   </td><td>3300 </td></tr>\n",
       "</tbody>\n",
       "</table>\n"
      ],
      "text/latex": [
       "\\begin{tabular}{r|lll}\n",
       " eruptions & waiting & waiting\\_secs\\\\\n",
       "\\hline\n",
       "\t 3.600 & 79    & 4740 \\\\\n",
       "\t 1.800 & 54    & 3240 \\\\\n",
       "\t 3.333 & 74    & 4440 \\\\\n",
       "\t 2.283 & 62    & 3720 \\\\\n",
       "\t 4.533 & 85    & 5100 \\\\\n",
       "\t 2.883 & 55    & 3300 \\\\\n",
       "\\end{tabular}\n"
      ],
      "text/markdown": [
       "\n",
       "eruptions | waiting | waiting_secs | \n",
       "|---|---|---|---|---|---|\n",
       "| 3.600 | 79    | 4740  | \n",
       "| 1.800 | 54    | 3240  | \n",
       "| 3.333 | 74    | 4440  | \n",
       "| 2.283 | 62    | 3720  | \n",
       "| 4.533 | 85    | 5100  | \n",
       "| 2.883 | 55    | 3300  | \n",
       "\n",
       "\n"
      ],
      "text/plain": [
       "  eruptions waiting waiting_secs\n",
       "1 3.600     79      4740        \n",
       "2 1.800     54      3240        \n",
       "3 3.333     74      4440        \n",
       "4 2.283     62      3720        \n",
       "5 4.533     85      5100        \n",
       "6 2.883     55      3300        "
      ]
     },
     "metadata": {},
     "output_type": "display_data"
    }
   ],
   "source": [
    "df <- as.DataFrame(faithful)\n",
    "# Convert waiting time from hours to seconds.\n",
    "# Note that we can assign this to a new column in the same SparkDataFrame\n",
    "df$waiting_secs <- df$waiting * 60\n",
    "head(df)"
   ]
  },
  {
   "cell_type": "markdown",
   "metadata": {},
   "source": [
    "## Applying User-Defined Function\n",
    "In SparkR, we support several kinds of User-Defined Functions:\n",
    "\n",
    "### Run a given function on a large dataset using dapply or dapplyCollect\n",
    "#### dapply\n",
    "Apply a function to each partition of a SparkDataFrame. The function to be applied to each partition of the SparkDataFrame and should have only one parameter, to which a data.frame corresponds to each partition will be passed. The output of function should be a data.frame. Schema specifies the row format of the resulting a SparkDataFrame. It must match to data types of returned value."
   ]
  },
  {
   "cell_type": "code",
   "execution_count": 21,
   "metadata": {},
   "outputs": [
    {
     "data": {
      "text/html": [
       "<table>\n",
       "<thead><tr><th scope=col>eruptions</th><th scope=col>waiting</th></tr></thead>\n",
       "<tbody>\n",
       "\t<tr><td>3.600</td><td>79   </td></tr>\n",
       "\t<tr><td>1.800</td><td>54   </td></tr>\n",
       "\t<tr><td>3.333</td><td>74   </td></tr>\n",
       "\t<tr><td>2.283</td><td>62   </td></tr>\n",
       "\t<tr><td>4.533</td><td>85   </td></tr>\n",
       "\t<tr><td>2.883</td><td>55   </td></tr>\n",
       "</tbody>\n",
       "</table>\n"
      ],
      "text/latex": [
       "\\begin{tabular}{r|ll}\n",
       " eruptions & waiting\\\\\n",
       "\\hline\n",
       "\t 3.600 & 79   \\\\\n",
       "\t 1.800 & 54   \\\\\n",
       "\t 3.333 & 74   \\\\\n",
       "\t 2.283 & 62   \\\\\n",
       "\t 4.533 & 85   \\\\\n",
       "\t 2.883 & 55   \\\\\n",
       "\\end{tabular}\n"
      ],
      "text/markdown": [
       "\n",
       "eruptions | waiting | \n",
       "|---|---|---|---|---|---|\n",
       "| 3.600 | 79    | \n",
       "| 1.800 | 54    | \n",
       "| 3.333 | 74    | \n",
       "| 2.283 | 62    | \n",
       "| 4.533 | 85    | \n",
       "| 2.883 | 55    | \n",
       "\n",
       "\n"
      ],
      "text/plain": [
       "  eruptions waiting\n",
       "1 3.600     79     \n",
       "2 1.800     54     \n",
       "3 3.333     74     \n",
       "4 2.283     62     \n",
       "5 4.533     85     \n",
       "6 2.883     55     "
      ]
     },
     "metadata": {},
     "output_type": "display_data"
    },
    {
     "data": {
      "text/html": [
       "<table>\n",
       "<thead><tr><th scope=col>eruptions</th><th scope=col>waiting</th><th scope=col>waiting_secs</th></tr></thead>\n",
       "<tbody>\n",
       "\t<tr><td>3.600</td><td>79   </td><td>4740 </td></tr>\n",
       "\t<tr><td>1.800</td><td>54   </td><td>3240 </td></tr>\n",
       "\t<tr><td>3.333</td><td>74   </td><td>4440 </td></tr>\n",
       "\t<tr><td>2.283</td><td>62   </td><td>3720 </td></tr>\n",
       "\t<tr><td>4.533</td><td>85   </td><td>5100 </td></tr>\n",
       "\t<tr><td>2.883</td><td>55   </td><td>3300 </td></tr>\n",
       "</tbody>\n",
       "</table>\n"
      ],
      "text/latex": [
       "\\begin{tabular}{r|lll}\n",
       " eruptions & waiting & waiting\\_secs\\\\\n",
       "\\hline\n",
       "\t 3.600 & 79    & 4740 \\\\\n",
       "\t 1.800 & 54    & 3240 \\\\\n",
       "\t 3.333 & 74    & 4440 \\\\\n",
       "\t 2.283 & 62    & 3720 \\\\\n",
       "\t 4.533 & 85    & 5100 \\\\\n",
       "\t 2.883 & 55    & 3300 \\\\\n",
       "\\end{tabular}\n"
      ],
      "text/markdown": [
       "\n",
       "eruptions | waiting | waiting_secs | \n",
       "|---|---|---|---|---|---|\n",
       "| 3.600 | 79    | 4740  | \n",
       "| 1.800 | 54    | 3240  | \n",
       "| 3.333 | 74    | 4440  | \n",
       "| 2.283 | 62    | 3720  | \n",
       "| 4.533 | 85    | 5100  | \n",
       "| 2.883 | 55    | 3300  | \n",
       "\n",
       "\n"
      ],
      "text/plain": [
       "  eruptions waiting waiting_secs\n",
       "1 3.600     79      4740        \n",
       "2 1.800     54      3240        \n",
       "3 3.333     74      4440        \n",
       "4 2.283     62      3720        \n",
       "5 4.533     85      5100        \n",
       "6 2.883     55      3300        "
      ]
     },
     "metadata": {},
     "output_type": "display_data"
    }
   ],
   "source": [
    "df <- as.DataFrame(faithful)\n",
    "\n",
    "# Convert waiting time from hours to seconds.\n",
    "# Note that we can apply UDF to DataFrame.\n",
    "schema <- structType(structField(\"eruptions\", \"double\"), structField(\"waiting\", \"double\"), structField(\"waiting_secs\", \"double\"))\n",
    "head(collect(df))\n",
    "df1 <- dapply(df, function(x) { x <- cbind(x, x$waiting * 60) }, schema)\n",
    "head(collect(df1))"
   ]
  },
  {
   "cell_type": "markdown",
   "metadata": {},
   "source": [
    "#### dapplyCollect\n",
    "Like dapply, apply a function to each partition of a SparkDataFrame and collect the result back. The output of function should be a data.frame. But, Schema is not required to be passed. Note that dapplyCollect can fail if the output of UDF run on all the partition cannot be pulled to the driver and fit in driver memory.\n",
    "\n"
   ]
  },
  {
   "cell_type": "code",
   "execution_count": 22,
   "metadata": {},
   "outputs": [
    {
     "data": {
      "text/html": [
       "<table>\n",
       "<thead><tr><th scope=col>eruptions</th><th scope=col>waiting</th><th scope=col>waiting_secs</th></tr></thead>\n",
       "<tbody>\n",
       "\t<tr><td>3.600</td><td>79   </td><td>4740 </td></tr>\n",
       "\t<tr><td>1.800</td><td>54   </td><td>3240 </td></tr>\n",
       "\t<tr><td>3.333</td><td>74   </td><td>4440 </td></tr>\n",
       "</tbody>\n",
       "</table>\n"
      ],
      "text/latex": [
       "\\begin{tabular}{r|lll}\n",
       " eruptions & waiting & waiting\\_secs\\\\\n",
       "\\hline\n",
       "\t 3.600 & 79    & 4740 \\\\\n",
       "\t 1.800 & 54    & 3240 \\\\\n",
       "\t 3.333 & 74    & 4440 \\\\\n",
       "\\end{tabular}\n"
      ],
      "text/markdown": [
       "\n",
       "eruptions | waiting | waiting_secs | \n",
       "|---|---|---|\n",
       "| 3.600 | 79    | 4740  | \n",
       "| 1.800 | 54    | 3240  | \n",
       "| 3.333 | 74    | 4440  | \n",
       "\n",
       "\n"
      ],
      "text/plain": [
       "  eruptions waiting waiting_secs\n",
       "1 3.600     79      4740        \n",
       "2 1.800     54      3240        \n",
       "3 3.333     74      4440        "
      ]
     },
     "metadata": {},
     "output_type": "display_data"
    }
   ],
   "source": [
    "# Convert waiting time from hours to seconds.\n",
    "# Note that we can apply UDF to DataFrame and return a R's data.frame\n",
    "ldf <- dapplyCollect(\n",
    "         df,\n",
    "         function(x) {\n",
    "           x <- cbind(x, \"waiting_secs\" = x$waiting * 60)\n",
    "         })\n",
    "head(ldf, 3)"
   ]
  },
  {
   "cell_type": "markdown",
   "metadata": {},
   "source": [
    "### Run a given function on a large dataset grouping by input column(s) and using gapply or gapplyCollect\n",
    "#### gapply\n",
    "Apply a function to each group of a SparkDataFrame. The function is to be applied to each group of the SparkDataFrame and should have only two parameters: grouping key and R data.frame corresponding to that key. The groups are chosen from SparkDataFrames column(s). The output of function should be a data.frame. Schema specifies the row format of the resulting SparkDataFrame. It must represent R function’s output schema on the basis of Spark data types. The column names of the returned data.frame are set by user."
   ]
  },
  {
   "cell_type": "code",
   "execution_count": 23,
   "metadata": {},
   "outputs": [
    {
     "data": {
      "text/html": [
       "<table>\n",
       "<thead><tr><th scope=col>waiting</th><th scope=col>max_eruption</th></tr></thead>\n",
       "<tbody>\n",
       "\t<tr><td>96   </td><td>5.100</td></tr>\n",
       "\t<tr><td>76   </td><td>5.067</td></tr>\n",
       "\t<tr><td>77   </td><td>5.033</td></tr>\n",
       "\t<tr><td>88   </td><td>5.000</td></tr>\n",
       "\t<tr><td>86   </td><td>4.933</td></tr>\n",
       "\t<tr><td>82   </td><td>4.900</td></tr>\n",
       "</tbody>\n",
       "</table>\n"
      ],
      "text/latex": [
       "\\begin{tabular}{r|ll}\n",
       " waiting & max\\_eruption\\\\\n",
       "\\hline\n",
       "\t 96    & 5.100\\\\\n",
       "\t 76    & 5.067\\\\\n",
       "\t 77    & 5.033\\\\\n",
       "\t 88    & 5.000\\\\\n",
       "\t 86    & 4.933\\\\\n",
       "\t 82    & 4.900\\\\\n",
       "\\end{tabular}\n"
      ],
      "text/markdown": [
       "\n",
       "waiting | max_eruption | \n",
       "|---|---|---|---|---|---|\n",
       "| 96    | 5.100 | \n",
       "| 76    | 5.067 | \n",
       "| 77    | 5.033 | \n",
       "| 88    | 5.000 | \n",
       "| 86    | 4.933 | \n",
       "| 82    | 4.900 | \n",
       "\n",
       "\n"
      ],
      "text/plain": [
       "  waiting max_eruption\n",
       "1 96      5.100       \n",
       "2 76      5.067       \n",
       "3 77      5.033       \n",
       "4 88      5.000       \n",
       "5 86      4.933       \n",
       "6 82      4.900       "
      ]
     },
     "metadata": {},
     "output_type": "display_data"
    }
   ],
   "source": [
    "df <- as.DataFrame(faithful)\n",
    "\n",
    "# Determine six waiting times with the largest eruption time in minutes.\n",
    "schema <- structType(structField(\"waiting\", \"double\"), structField(\"max_eruption\", \"double\"))\n",
    "result <- gapply(\n",
    "    df,\n",
    "    \"waiting\",\n",
    "    function(key, x) {\n",
    "        y <- data.frame(key, max(x$eruptions))\n",
    "    },\n",
    "    schema)\n",
    "head(collect(arrange(result, \"max_eruption\", decreasing = TRUE)))\n"
   ]
  },
  {
   "cell_type": "markdown",
   "metadata": {},
   "source": [
    "#### gapplyCollect\n",
    "Like gapply, applies a function to each partition of a SparkDataFrame and collect the result back to R data.frame. The output of the function should be a data.frame. But, the schema is not required to be passed. Note that gapplyCollect can fail if the output of UDF run on all the partition cannot be pulled to the driver and fit in driver memory."
   ]
  },
  {
   "cell_type": "code",
   "execution_count": 24,
   "metadata": {},
   "outputs": [
    {
     "data": {
      "text/html": [
       "<table>\n",
       "<thead><tr><th></th><th scope=col>waiting</th><th scope=col>max_eruption</th></tr></thead>\n",
       "<tbody>\n",
       "\t<tr><th scope=row>10</th><td>96   </td><td>5.100</td></tr>\n",
       "\t<tr><th scope=row>49</th><td>76   </td><td>5.067</td></tr>\n",
       "\t<tr><th scope=row>15</th><td>77   </td><td>5.033</td></tr>\n",
       "\t<tr><th scope=row>4</th><td>88   </td><td>5.000</td></tr>\n",
       "\t<tr><th scope=row>12</th><td>86   </td><td>4.933</td></tr>\n",
       "\t<tr><th scope=row>29</th><td>82   </td><td>4.900</td></tr>\n",
       "</tbody>\n",
       "</table>\n"
      ],
      "text/latex": [
       "\\begin{tabular}{r|ll}\n",
       "  & waiting & max\\_eruption\\\\\n",
       "\\hline\n",
       "\t10 & 96    & 5.100\\\\\n",
       "\t49 & 76    & 5.067\\\\\n",
       "\t15 & 77    & 5.033\\\\\n",
       "\t4 & 88    & 5.000\\\\\n",
       "\t12 & 86    & 4.933\\\\\n",
       "\t29 & 82    & 4.900\\\\\n",
       "\\end{tabular}\n"
      ],
      "text/markdown": [
       "\n",
       "| <!--/--> | waiting | max_eruption | \n",
       "|---|---|---|---|---|---|\n",
       "| 10 | 96    | 5.100 | \n",
       "| 49 | 76    | 5.067 | \n",
       "| 15 | 77    | 5.033 | \n",
       "| 4 | 88    | 5.000 | \n",
       "| 12 | 86    | 4.933 | \n",
       "| 29 | 82    | 4.900 | \n",
       "\n",
       "\n"
      ],
      "text/plain": [
       "   waiting max_eruption\n",
       "10 96      5.100       \n",
       "49 76      5.067       \n",
       "15 77      5.033       \n",
       "4  88      5.000       \n",
       "12 86      4.933       \n",
       "29 82      4.900       "
      ]
     },
     "metadata": {},
     "output_type": "display_data"
    }
   ],
   "source": [
    "# Determine six waiting times with the largest eruption time in minutes.\n",
    "result <- gapplyCollect(\n",
    "    df,\n",
    "    \"waiting\",\n",
    "    function(key, x) {\n",
    "        y <- data.frame(key, max(x$eruptions))\n",
    "        colnames(y) <- c(\"waiting\", \"max_eruption\")\n",
    "        y\n",
    "    })\n",
    "head(result[order(result$max_eruption, decreasing = TRUE), ])"
   ]
  },
  {
   "cell_type": "markdown",
   "metadata": {},
   "source": [
    "### Run local R functions distributed using spark.lapply\n",
    "#### spark.lapply\n",
    "Similar to lapply in native R, spark.lapply runs a function over a list of elements and distributes the computations with Spark. Applies a function in a manner that is similar to doParallel or lapply to elements of a list. The results of all the computations should fit in a single machine. If that is not the case they can do something like df <- createDataFrame(list) and then use dapply\n",
    "\n"
   ]
  },
  {
   "cell_type": "code",
   "execution_count": 25,
   "metadata": {},
   "outputs": [
    {
     "name": "stdout",
     "output_type": "stream",
     "text": [
      "[[1]]\n",
      "\n",
      "Call:\n",
      "glm(formula = Sepal.Length ~ Sepal.Width + Species, family = family, \n",
      "    data = iris)\n",
      "\n",
      "Deviance Residuals: \n",
      "     Min        1Q    Median        3Q       Max  \n",
      "-1.30711  -0.25713  -0.05325   0.19542   1.41253  \n",
      "\n",
      "Coefficients:\n",
      "                  Estimate Std. Error t value Pr(>|t|)    \n",
      "(Intercept)         2.2514     0.3698   6.089 9.57e-09 ***\n",
      "Sepal.Width         0.8036     0.1063   7.557 4.19e-12 ***\n",
      "Speciesversicolor   1.4587     0.1121  13.012  < 2e-16 ***\n",
      "Speciesvirginica    1.9468     0.1000  19.465  < 2e-16 ***\n",
      "---\n",
      "Signif. codes:  0 ‘***’ 0.001 ‘**’ 0.01 ‘*’ 0.05 ‘.’ 0.1 ‘ ’ 1\n",
      "\n",
      "(Dispersion parameter for gaussian family taken to be 0.1918059)\n",
      "\n",
      "    Null deviance: 102.168  on 149  degrees of freedom\n",
      "Residual deviance:  28.004  on 146  degrees of freedom\n",
      "AIC: 183.94\n",
      "\n",
      "Number of Fisher Scoring iterations: 2\n",
      "\n",
      "\n",
      "[[2]]\n",
      "\n",
      "Call:\n",
      "glm(formula = Sepal.Length ~ Sepal.Width + Species, family = family, \n",
      "    data = iris)\n",
      "\n",
      "Deviance Residuals: \n",
      "     Min        1Q    Median        3Q       Max  \n",
      "-0.52652  -0.10966  -0.01230   0.07755   0.56101  \n",
      "\n",
      "Coefficients:\n",
      "                  Estimate Std. Error z value Pr(>|z|)    \n",
      "(Intercept)        1.13033    0.35454   3.188 0.001432 ** \n",
      "Sepal.Width        0.13971    0.10119   1.381 0.167361    \n",
      "Speciesversicolor  0.26277    0.10901   2.410 0.015931 *  \n",
      "Speciesvirginica   0.33842    0.09587   3.530 0.000416 ***\n",
      "---\n",
      "Signif. codes:  0 ‘***’ 0.001 ‘**’ 0.01 ‘*’ 0.05 ‘.’ 0.1 ‘ ’ 1\n",
      "\n",
      "(Dispersion parameter for poisson family taken to be 1)\n",
      "\n",
      "    Null deviance: 17.3620  on 149  degrees of freedom\n",
      "Residual deviance:  4.5202  on 146  degrees of freedom\n",
      "AIC: Inf\n",
      "\n",
      "Number of Fisher Scoring iterations: 3\n",
      "\n",
      "\n"
     ]
    }
   ],
   "source": [
    "# Perform distributed training of multiple models with spark.lapply. Here, we pass\n",
    "# a read-only list of arguments which specifies family the generalized linear model should be.\n",
    "families <- c(\"gaussian\", \"poisson\")\n",
    "train <- function(family) {\n",
    "  model <- glm(Sepal.Length ~ Sepal.Width + Species, iris, family = family)\n",
    "  summary(model)\n",
    "}\n",
    "# Return a list of model's summaries\n",
    "model.summaries <- spark.lapply(families, train)\n",
    "\n",
    "# Print the summary of each model\n",
    "print(model.summaries)"
   ]
  },
  {
   "cell_type": "markdown",
   "metadata": {},
   "source": [
    "## Running SQL Queries from SparkR\n",
    "A SparkDataFrame can also be registered as a temporary view in Spark SQL and that allows you to run SQL queries over its data. The sql function enables applications to run SQL queries programmatically and returns the result as a SparkDataFrame."
   ]
  },
  {
   "cell_type": "code",
   "execution_count": 26,
   "metadata": {},
   "outputs": [
    {
     "data": {
      "text/html": [
       "<table>\n",
       "<thead><tr><th scope=col>name</th></tr></thead>\n",
       "<tbody>\n",
       "\t<tr><td>Justin</td></tr>\n",
       "</tbody>\n",
       "</table>\n"
      ],
      "text/latex": [
       "\\begin{tabular}{r|l}\n",
       " name\\\\\n",
       "\\hline\n",
       "\t Justin\\\\\n",
       "\\end{tabular}\n"
      ],
      "text/markdown": [
       "\n",
       "name | \n",
       "|---|\n",
       "| Justin | \n",
       "\n",
       "\n"
      ],
      "text/plain": [
       "  name  \n",
       "1 Justin"
      ]
     },
     "metadata": {},
     "output_type": "display_data"
    }
   ],
   "source": [
    "# Load a JSON file\n",
    "people <- read.df(\"/opt/spark/examples/src/main/resources/people.json\", \"json\")\n",
    "\n",
    "# Register this SparkDataFrame as a temporary view.\n",
    "createOrReplaceTempView(people, \"people\")\n",
    "\n",
    "# SQL statements can be run by using the sql method\n",
    "teenagers <- sql(\"SELECT name FROM people WHERE age >= 13 AND age <= 19\")\n",
    "head(teenagers)"
   ]
  },
  {
   "cell_type": "markdown",
   "metadata": {},
   "source": [
    "## Machine Learning"
   ]
  },
  {
   "cell_type": "markdown",
   "metadata": {},
   "source": [
    "### Algorithms\n",
    "SparkR supports the following machine learning algorithms currently:\n",
    "\n",
    "#### Classification\n",
    "- spark.logit: Logistic Regression\n",
    "- spark.mlp: Multilayer Perceptron (MLP)\n",
    "- spark.naiveBayes: Naive Bayes\n",
    "- spark.svmLinear: Linear Support Vector Machine\n",
    "\n",
    "#### Regression\n",
    "- spark.survreg: Accelerated Failure Time (AFT) Survival Model\n",
    "- spark.glm or glm: Generalized Linear Model (GLM)\n",
    "- spark.isoreg: Isotonic Regression\n",
    "\n",
    "#### Tree\n",
    "- spark.decisionTree: Decision Tree for Regression and Classification\n",
    "- spark.gbt: Gradient Boosted Trees for Regression and Classification\n",
    "- spark.randomForest: Random Forest for Regression and Classification\n",
    "\n",
    "#### Clustering\n",
    "- spark.bisectingKmeans: Bisecting k-means\n",
    "- spark.gaussianMixture: Gaussian Mixture Model (GMM)\n",
    "- spark.kmeans: K-Means\n",
    "- spark.lda: Latent Dirichlet Allocation (LDA)\n",
    "\n",
    "#### Collaborative Filtering\n",
    "- spark.als: Alternating Least Squares (ALS)\n",
    "- Frequent Pattern Mining\n",
    "- spark.fpGrowth : FP-growth\n",
    "\n",
    "#### Statistics\n",
    "- spark.kstest: Kolmogorov-Smirnov Test\n",
    "\n",
    "Under the hood, SparkR uses MLlib to train the model. Please refer to the corresponding section of MLlib user guide for example code. Users can call summary to print a summary of the fitted model, predict to make predictions on new data, and write.ml/read.ml to save/load fitted models. SparkR supports a subset of the available R formula operators for model fitting, including ‘~’, ‘.’, ‘:’, ‘+’, and ‘-‘."
   ]
  },
  {
   "cell_type": "markdown",
   "metadata": {},
   "source": [
    "### Model persistence\n",
    "The following example shows how to save/load a MLlib model by SparkR.\n",
    "\n"
   ]
  },
  {
   "cell_type": "code",
   "execution_count": 27,
   "metadata": {},
   "outputs": [
    {
     "data": {
      "text/plain": [
       "\n",
       "Saved-loaded model does not support output 'Deviance Residuals'.\n",
       "\n",
       "Coefficients:\n",
       "              Estimate  Std. Error   t value    Pr(>|t|)\n",
       "(Intercept)   0.886604    0.080965  10.95045  0.0000e+00\n",
       "features_0   -0.060493    0.406325  -0.14888  8.8195e-01\n",
       "features_1   -0.613922    0.281482  -2.18103  3.1502e-02\n",
       "features_2    1.677997    0.701195   2.39305  1.8556e-02\n",
       "features_3   -2.035859    0.475488  -4.28162  4.2331e-05\n",
       "\n",
       "(Dispersion parameter for gaussian family taken to be 0.4809826)\n",
       "\n",
       "    Null deviance: 70.538  on 105  degrees of freedom\n",
       "Residual deviance: 48.579  on 101  degrees of freedom\n",
       "AIC: 230.1\n",
       "\n",
       "Number of Fisher Scoring iterations: 1\n"
      ]
     },
     "metadata": {},
     "output_type": "display_data"
    },
    {
     "data": {
      "text/html": [
       "<table>\n",
       "<thead><tr><th scope=col>label</th><th scope=col>features</th><th scope=col>prediction</th></tr></thead>\n",
       "<tbody>\n",
       "\t<tr><td>0                                  </td><td>&lt;environment: 0x55ccc51a7f40&gt;</td><td> 0.80150483                        </td></tr>\n",
       "\t<tr><td>0                                  </td><td>&lt;environment: 0x55ccc51aeb00&gt;</td><td> 1.96245136                        </td></tr>\n",
       "\t<tr><td>0                                  </td><td>&lt;environment: 0x55ccc51b5fb0&gt;</td><td> 0.72310041                        </td></tr>\n",
       "\t<tr><td>0                                  </td><td>&lt;environment: 0x55ccc51c6a18&gt;</td><td> 1.39934665                        </td></tr>\n",
       "\t<tr><td>0                                  </td><td>&lt;environment: 0x55ccc51cd910&gt;</td><td>-0.04107059                        </td></tr>\n",
       "\t<tr><td>0                                  </td><td>&lt;environment: 0x55ccc51d66f0&gt;</td><td> 0.66246359                        </td></tr>\n",
       "</tbody>\n",
       "</table>\n"
      ],
      "text/latex": [
       "\\begin{tabular}{r|lll}\n",
       " label & features & prediction\\\\\n",
       "\\hline\n",
       "\t 0                             & <environment: 0x55ccc51a7f40> &  0.80150483                  \\\\\n",
       "\t 0                             & <environment: 0x55ccc51aeb00> &  1.96245136                  \\\\\n",
       "\t 0                             & <environment: 0x55ccc51b5fb0> &  0.72310041                  \\\\\n",
       "\t 0                             & <environment: 0x55ccc51c6a18> &  1.39934665                  \\\\\n",
       "\t 0                             & <environment: 0x55ccc51cd910> & -0.04107059                  \\\\\n",
       "\t 0                             & <environment: 0x55ccc51d66f0> &  0.66246359                  \\\\\n",
       "\\end{tabular}\n"
      ],
      "text/markdown": [
       "\n",
       "label | features | prediction | \n",
       "|---|---|---|---|---|---|\n",
       "| 0                             | <environment: 0x55ccc51a7f40> |  0.80150483                   | \n",
       "| 0                             | <environment: 0x55ccc51aeb00> |  1.96245136                   | \n",
       "| 0                             | <environment: 0x55ccc51b5fb0> |  0.72310041                   | \n",
       "| 0                             | <environment: 0x55ccc51c6a18> |  1.39934665                   | \n",
       "| 0                             | <environment: 0x55ccc51cd910> | -0.04107059                   | \n",
       "| 0                             | <environment: 0x55ccc51d66f0> |  0.66246359                   | \n",
       "\n",
       "\n"
      ],
      "text/plain": [
       "  label features                      prediction \n",
       "1 0     <environment: 0x55ccc51a7f40>  0.80150483\n",
       "2 0     <environment: 0x55ccc51aeb00>  1.96245136\n",
       "3 0     <environment: 0x55ccc51b5fb0>  0.72310041\n",
       "4 0     <environment: 0x55ccc51c6a18>  1.39934665\n",
       "5 0     <environment: 0x55ccc51cd910> -0.04107059\n",
       "6 0     <environment: 0x55ccc51d66f0>  0.66246359"
      ]
     },
     "metadata": {},
     "output_type": "display_data"
    }
   ],
   "source": [
    "training <- read.df(\"/opt/spark/data/mllib/sample_multiclass_classification_data.txt\", source = \"libsvm\")\n",
    "# Fit a generalized linear model of family \"gaussian\" with spark.glm\n",
    "df_list <- randomSplit(training, c(7,3), 2)\n",
    "gaussianDF <- df_list[[1]]\n",
    "gaussianTestDF <- df_list[[2]]\n",
    "gaussianGLM <- spark.glm(gaussianDF, label ~ features, family = \"gaussian\")\n",
    "\n",
    "# Save and then load a fitted MLlib model\n",
    "modelPath <- tempfile(pattern = \"ml\", fileext = \".tmp\")\n",
    "write.ml(gaussianGLM, modelPath)\n",
    "gaussianGLM2 <- read.ml(modelPath)\n",
    "\n",
    "# Check model summary\n",
    "summary(gaussianGLM2)\n",
    "\n",
    "# Check model prediction\n",
    "gaussianPredictions <- predict(gaussianGLM2, gaussianTestDF)\n",
    "head(gaussianPredictions)\n",
    "\n",
    "unlink(modelPath)"
   ]
  },
  {
   "cell_type": "markdown",
   "metadata": {},
   "source": [
    "Find full example code at \"examples/src/main/r/ml/ml.R\" in the Spark repo."
   ]
  },
  {
   "cell_type": "code",
   "execution_count": 28,
   "metadata": {},
   "outputs": [],
   "source": [
    "sparkR.session.stop()"
   ]
  },
  {
   "cell_type": "markdown",
   "metadata": {},
   "source": [
    "## Data type mapping between R and Spark\n",
    "\n",
    "<table class=\"table\">\n",
    "  <thead>\n",
    "    <tr>\n",
    "      <th>R</th>\n",
    "      <th>Spark</th>\n",
    "    </tr>\n",
    "  </thead>\n",
    "  <tbody>\n",
    "    <tr>\n",
    "        <td>byte</td><td>byte</td>\n",
    "    </tr>\n",
    "    <tr>\n",
    "        <td>integer</td><td>integer</td>\n",
    "    </tr>\n",
    "    <tr>\n",
    "        <td>float</td><td>float</td>\n",
    "    </tr>\n",
    "    <tr>\n",
    "        <td>double</td><td>double</td>\n",
    "    </tr>\n",
    "    <tr>\n",
    "        <td>numeric</td><td>double</td>\n",
    "    </tr>\n",
    "    <tr>\n",
    "        <td>character</td><td>string</td>\n",
    "    </tr>\n",
    "    <tr>\n",
    "        <td>string</td><td>string</td>\n",
    "    </tr>\n",
    "    <tr>\n",
    "        <td>binary</td><td>binary</td>\n",
    "    </tr>\n",
    "    <tr>\n",
    "        <td>raw</td><td></td>\n",
    "    </tr>\n",
    "    <tr>\n",
    "        <td>logical</td><td>boolean</td>\n",
    "    </tr>\n",
    "    <tr>\n",
    "        <td>POSIXct</td><td>timestamp</td>\n",
    "    </tr>\n",
    "    <tr>\n",
    "        <td>POSIXlt</td><td>timestamp</td>\n",
    "    </tr>\n",
    "    <tr>\n",
    "        <td>Date</td><td>date</td>\n",
    "    </tr>\n",
    "    <tr>\n",
    "        <td>array</td><td>array</td>\n",
    "    </tr>\n",
    "    <tr>\n",
    "        <td>list</td><td>array</td>\n",
    "    </tr>\n",
    "    <tr>\n",
    "        <td>env</td><td>map</td>\n",
    "    </tr>\n",
    "    </tbody>\n",
    "     <tfoot><tr><td colspan=\"4\"></td></tr></tfoot>\n",
    "</table>\n"
   ]
  },
  {
   "cell_type": "code",
   "execution_count": null,
   "metadata": {},
   "outputs": [],
   "source": []
  }
 ],
 "metadata": {
  "kernelspec": {
   "display_name": "R",
   "language": "R",
   "name": "ir"
  },
  "language_info": {
   "codemirror_mode": "r",
   "file_extension": ".r",
   "mimetype": "text/x-r-source",
   "name": "R",
   "pygments_lexer": "r",
   "version": "3.5.0"
  },
  "toc": {
   "base_numbering": 1,
   "nav_menu": {},
   "number_sections": false,
   "sideBar": false,
   "skip_h1_title": false,
   "title_cell": "Table of Contents",
   "title_sidebar": "Contents",
   "toc_cell": false,
   "toc_position": {},
   "toc_section_display": false,
   "toc_window_display": false
  }
 },
 "nbformat": 4,
 "nbformat_minor": 2
}

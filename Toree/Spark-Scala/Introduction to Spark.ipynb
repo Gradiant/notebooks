{
 "cells": [
  {
   "cell_type": "markdown",
   "metadata": {},
   "source": [
    " #  RDD API Examples"
   ]
  },
  {
   "cell_type": "markdown",
   "metadata": {},
   "source": [
    "## Word Count\n",
    "In this example, we use a few transformations to build a dataset of (String, Int) pairs called counts and then save it to a file.\n",
    "```\n",
    "sc.textFile(name, minPartitions=None, use_unicode=True)\n",
    "Read a text file from HDFS, a local file system (available on all nodes), or any Hadoop-supported file system URI, and return it as an RDD of Strings.\n",
    "```"
   ]
  },
  {
   "cell_type": "code",
   "execution_count": 1,
   "metadata": {},
   "outputs": [
    {
     "data": {
      "text/plain": [
       "textFile = ../../datasets/quijote.txt MapPartitionsRDD[1] at textFile at <console>:27\n",
       "counts = ShuffledRDD[4] at reduceByKey at <console>:30\n"
      ]
     },
     "metadata": {},
     "output_type": "display_data"
    },
    {
     "data": {
      "text/plain": [
       "Array((que,19429), (de,17985), (y,15894), (la,10200), (a,9519), (\"\",9195), (el,7957), (en,7898), (no,5603), (se,4690), (los,4680), (con,4047), (por,3758), (las,3423), (lo,3387), (le,3382), (su,3319), (don,2533), (del,2464), (me,2344), (como,2226), (es,1990), (un,1927), (más,1823), (si,1779), (yo,1703), (al,1696), (mi,1684), (para,1419), (ni,1350), (una,1300), (y,,1250), (tan,1217), (porque,1189), (o,1159), (sin,1139), (que,,1069), (sus,1047), (ha,1038), (él,1034), (había,1006), (ser,997), (todo,963), (Sancho,950), (Quijote,893), (-dijo,873), (bie..."
      ]
     },
     "execution_count": 1,
     "metadata": {},
     "output_type": "execute_result"
    }
   ],
   "source": [
    "val textFile = sc.textFile(\"../../datasets/quijote.txt\")\n",
    "val counts = textFile.flatMap(line => line.split(\" \"))\n",
    "                 .map(word => (word, 1))\n",
    "                 .reduceByKey(_ + _)\n",
    "counts.sortBy(_._2, ascending=false).take(50)\n",
    "\n"
   ]
  },
  {
   "cell_type": "markdown",
   "metadata": {},
   "source": [
    " ## Pi Estimation\n",
    "\n",
    "Spark can also be used for compute-intensive tasks. This code estimates π by \"throwing darts\" at a circle. We pick random points in the unit square ((0, 0) to (1,1)) and see how many fall in the unit circle. The fraction should be π / 4, so we use this to get our estimate."
   ]
  },
  {
   "cell_type": "code",
   "execution_count": 6,
   "metadata": {},
   "outputs": [
    {
     "data": {
      "application/vnd.jupyter.widget-view+json": {
       "model_id": "c0b6c085-24a1-406d-8ec5-7808c5724e6f",
       "version_major": 2,
       "version_minor": 0
      },
      "method": "display_data"
     },
     "metadata": {},
     "output_type": "display_data"
    },
    {
     "name": "stdout",
     "output_type": "stream",
     "text": [
      "Pi is roughly 3.139976\n"
     ]
    },
    {
     "data": {
      "text/plain": [
       "null"
      ]
     },
     "execution_count": 6,
     "metadata": {},
     "output_type": "execute_result"
    }
   ],
   "source": [
    "val NUM_SAMPLES = 1000000 \n",
    "val count = sc.parallelize(1 to NUM_SAMPLES).filter { _ =>\n",
    "  val x = math.random\n",
    "  val y = math.random\n",
    "  x*x + y*y < 1\n",
    "}.count()\n",
    "println(s\"Pi is roughly ${4.0 * count / NUM_SAMPLES}\")"
   ]
  },
  {
   "cell_type": "markdown",
   "metadata": {},
   "source": [
    "# DataFrame API Examples"
   ]
  },
  {
   "cell_type": "markdown",
   "metadata": {},
   "source": [
    "In this example, we count all quijote lines mentioning Dulcinea."
   ]
  },
  {
   "cell_type": "code",
   "execution_count": 3,
   "metadata": {},
   "outputs": [
    {
     "data": {
      "text/plain": [
       "textFile = ../../datasets/quijote.txt MapPartitionsRDD[25] at textFile at <console>:35\n",
       "df = [line: string]\n",
       "dulcinea_lines = [line: string]\n",
       "dulcinea_quijote_lines = [line: string]\n"
      ]
     },
     "metadata": {},
     "output_type": "display_data"
    },
    {
     "data": {
      "text/plain": [
       "Array([aquella noche no durmió don Quijote, pensando en su señora Dulcinea, por], [Quijote pedía, y sin preguntar quién Dulcinea fuese, le prometió que el], [Carta de don Quijote a Dulcinea del Toboso], [don Quijote que si, en nombrando a Dulcinea, no decía también del Toboso,], [Don Quijote, que tales blasfemias oyó decir contra su señora Dulcinea, no], ..."
      ]
     },
     "execution_count": 3,
     "metadata": {},
     "output_type": "execute_result"
    }
   ],
   "source": [
    "import org.apache.spark.sql.functions.col\n",
    "\n",
    "val textFile = sc.textFile(\"../../datasets/quijote.txt\")\n",
    "\n",
    "// Creates a DataFrame having a single column named \"line\"\n",
    "val df = textFile.toDF(\"line\")\n",
    "val dulcinea_lines = df.filter(col(\"line\").like(\"%Dulcinea%\"))\n",
    "// Counts all the Dulcinea lines\n",
    "dulcinea_lines.count()\n",
    "// Counts lines mentioning Dulcinea and Quijote\n",
    "val dulcinea_quijote_lines = dulcinea_lines.filter(col(\"line\").like(\"%Quijote%\"))\n",
    "dulcinea_quijote_lines.count()\n",
    "// Fetches the lines as an array of strings\n",
    "dulcinea_quijote_lines.collect()"
   ]
  },
  {
   "cell_type": "code",
   "execution_count": 15,
   "metadata": {},
   "outputs": [
    {
     "data": {
      "text/html": [
       "<table><tr><th>line</th></tr><tr><td>aquella noche no durmió don Quijote, pensando en su señora Dulcinea, por</td></tr><tr><td>Quijote pedía, y sin preguntar quién Dulcinea fuese, le prometió que el</td></tr><tr><td>Carta de don Quijote a Dulcinea del Toboso</td></tr><tr><td>don Quijote que si, en nombrando a Dulcinea, no decía también del Toboso,</td></tr><tr><td>Don Quijote, que tales blasfemias oyó decir contra su señora Dulcinea, no</td></tr><tr><td>-Si no fue la que llevaste a la señora Dulcinea -replicó don Quijote-, yo</td></tr><tr><td>a don Quijote que qué nuevas tenía de la señora Dulcinea, y que si le había</td></tr><tr><td>-A eso puedo decir -respondió don Quijote- que Dulcinea es hija de sus</td></tr><tr><td>Dulcinea del Toboso, ni le llevó la carta del señor don Quijote, porque se</td></tr><tr><td>encantada Dulcinea; en don Quijote, por no poder asegurarse si era verdad o</td></tr></table>"
      ]
     },
     "execution_count": 15,
     "metadata": {},
     "output_type": "execute_result"
    }
   ],
   "source": [
    "%%dataframe\n",
    "dulcinea_quijote_lines"
   ]
  },
  {
   "cell_type": "code",
   "execution_count": null,
   "metadata": {},
   "outputs": [],
   "source": []
  }
 ],
 "metadata": {
  "kernelspec": {
   "display_name": "Apache Toree - Scala",
   "language": "scala",
   "name": "apache_toree_scala"
  },
  "language_info": {
   "codemirror_mode": "text/x-scala",
   "file_extension": ".scala",
   "mimetype": "text/x-scala",
   "name": "scala",
   "pygments_lexer": "scala",
   "version": "2.11.12"
  },
  "toc": {
   "base_numbering": 1,
   "nav_menu": {},
   "number_sections": false,
   "sideBar": false,
   "skip_h1_title": false,
   "title_cell": "Table of Contents",
   "title_sidebar": "Contents",
   "toc_cell": false,
   "toc_position": {},
   "toc_section_display": false,
   "toc_window_display": false
  }
 },
 "nbformat": 4,
 "nbformat_minor": 2
}

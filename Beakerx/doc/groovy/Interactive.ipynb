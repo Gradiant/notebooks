{
 "cells": [
  {
   "cell_type": "markdown",
   "metadata": {},
   "source": [
    "# Interactive Recomputation\n",
    "\n",
    "The widgets work with the [interact API](http://ipywidgets.readthedocs.io/en/latest/examples/Using%20Interact.html), so that a cell can be recomputed as the widgets change value.  This API is slated for improvement see [#5867](https://github.com/twosigma/beakerx/issues/5867)."
   ]
  },
  {
   "cell_type": "code",
   "execution_count": 2,
   "metadata": {},
   "outputs": [
    {
     "data": {
      "application/vnd.jupyter.widget-view+json": {
       "model_id": "4e85dc5f-0700-4189-837c-aa88d56baf70",
       "version_major": 2,
       "version_minor": 0
      },
      "method": "display_data"
     },
     "metadata": {},
     "output_type": "display_data"
    },
    {
     "data": {
      "application/vnd.jupyter.widget-view+json": {
       "model_id": "335d7155-f6b2-4721-8762-7646ea7a863e",
       "version_major": 2,
       "version_minor": 0
      },
      "method": "display_data"
     },
     "metadata": {},
     "output_type": "display_data"
    },
    {
     "data": {
      "application/vnd.jupyter.widget-view+json": {
       "model_id": "6a8781bb-a20a-43d4-b0a4-8c23b2433782",
       "version_major": 2,
       "version_minor": 0
      },
      "method": "display_data"
     },
     "metadata": {},
     "output_type": "display_data"
    },
    {
     "data": {
      "text/plain": [
       "null"
      ]
     },
     "execution_count": 2,
     "metadata": {},
     "output_type": "execute_result"
    }
   ],
   "source": [
    "import static com.twosigma.beakerx.groovy.widgets.Interactive.interact\n",
    "\n",
    "class DataHolder{\n",
    "    static Plot plot = null;\n",
    "}\n",
    "\n",
    "public static Object f(a,b){\n",
    "    if (DataHolder.plot == null){\n",
    "        DataHolder.plot = new Plot(title: \"Lissajous Curves\")\n",
    "    }\n",
    "\n",
    "    List t = (1..1000)\n",
    "    List x = t.collect { it -> sin(it*a/100)}\n",
    "    List y = t.collect { it -> cos(it*b/100)}\n",
    "    \n",
    "    DataHolder.plot.getGraphics().clear()\n",
    "    DataHolder.plot.add(new Line(x: x, y: y))\n",
    "    return DataHolder.plot \n",
    "}\n",
    "\n",
    "interact(this.&f, 3d, -3d);"
   ]
  },
  {
   "cell_type": "code",
   "execution_count": null,
   "metadata": {},
   "outputs": [],
   "source": []
  }
 ],
 "metadata": {
  "beakerx_kernel_parameters": {},
  "kernelspec": {
   "display_name": "Groovy",
   "language": "groovy",
   "name": "groovy"
  },
  "language_info": {
   "codemirror_mode": "groovy",
   "file_extension": ".groovy",
   "mimetype": "",
   "name": "Groovy",
   "nbconverter_exporter": "",
   "version": "2.4.3"
  },
  "toc": {
   "base_numbering": 1,
   "nav_menu": {},
   "number_sections": false,
   "sideBar": false,
   "skip_h1_title": false,
   "title_cell": "Table of Contents",
   "title_sidebar": "Contents",
   "toc_cell": false,
   "toc_position": {},
   "toc_section_display": false,
   "toc_window_display": false
  },
  "widgets": {
   "state": {
    "8e031bec-8956-4228-9da0-77339eee6003": {
     "views": [
      {
       "cell_index": 0
      }
     ]
    }
   },
   "version": "1.2.0"
  }
 },
 "nbformat": 4,
 "nbformat_minor": 2
}

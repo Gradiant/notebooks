{
 "cells": [
  {
   "cell_type": "markdown",
   "metadata": {},
   "source": [
    " #  RDD API Examples"
   ]
  },
  {
   "cell_type": "code",
   "execution_count": 1,
   "metadata": {},
   "outputs": [
    {
     "data": {
      "application/vnd.jupyter.widget-view+json": {
       "model_id": "d81ac18f-18d7-4760-9850-7d19b6798ecc",
       "version_major": 2,
       "version_minor": 0
      },
      "method": "display_data"
     },
     "metadata": {},
     "output_type": "display_data"
    }
   ],
   "source": [
    "%%spark"
   ]
  },
  {
   "cell_type": "markdown",
   "metadata": {},
   "source": [
    "## Word Count\n",
    "In this example, we use a few transformations to build a dataset of (String, Int) pairs called counts and then save it to a file.\n",
    "```\n",
    "sc.textFile(name, minPartitions=None, use_unicode=True)\n",
    "Read a text file from HDFS, a local file system (available on all nodes), or any Hadoop-supported file system URI, and return it as an RDD of Strings.\n",
    "```"
   ]
  },
  {
   "cell_type": "code",
   "execution_count": 2,
   "metadata": {},
   "outputs": [
    {
     "data": {
      "application/vnd.jupyter.widget-view+json": {
       "model_id": "5bf798ca-46a1-45ef-82cc-2b00e41ef6f1",
       "version_major": 2,
       "version_minor": 0
      },
      "method": "display_data"
     },
     "metadata": {},
     "output_type": "display_data"
    },
    {
     "data": {
      "text/plain": [
       "[(que,19429), (de,17985), (y,15894), (la,10200), (a,9519), (,9195), (el,7957), (en,7898), (no,5603), (se,4690), (los,4680), (con,4047), (por,3758), (las,3423), (lo,3387), (le,3382), (su,3319), (don,2533), (del,2464), (me,2344), (como,2226), (es,1990), (un,1927), (más,1823), (si,1779), (yo,1703), (al,1696), (mi,1684), (para,1419), (ni,1350), (una,1300), (y,,1250), (tan,1217), (porque,1189), (o,1159), (sin,1139), (que,,1069), (sus,1047), (ha,1038), (él,1034), (había,1006), (ser,997), (todo,963), (Sancho,950), (Quijote,893), (-dijo,873), (bien,862), (-respondió,813), (vuestra,792), (señor,732)]"
      ]
     },
     "execution_count": 2,
     "metadata": {},
     "output_type": "execute_result"
    }
   ],
   "source": [
    "val textFile = sc.textFile(\"../datasets/quijote.txt\")\n",
    "val counts = textFile.flatMap(line => line.split(\" \"))\n",
    "                 .map(word => (word, 1))\n",
    "                 .reduceByKey(_ + _)\n",
    "counts.sortBy(_._2, ascending=false).take(50)\n",
    "\n"
   ]
  },
  {
   "cell_type": "markdown",
   "metadata": {},
   "source": [
    " ## Pi Estimation\n",
    "\n",
    "Spark can also be used for compute-intensive tasks. This code estimates π by \"throwing darts\" at a circle. We pick random points in the unit square ((0, 0) to (1,1)) and see how many fall in the unit circle. The fraction should be π / 4, so we use this to get our estimate."
   ]
  },
  {
   "cell_type": "code",
   "execution_count": 5,
   "metadata": {},
   "outputs": [
    {
     "data": {
      "application/vnd.jupyter.widget-view+json": {
       "model_id": "",
       "version_major": 2,
       "version_minor": 0
      },
      "method": "display_data"
     },
     "metadata": {},
     "output_type": "display_data"
    },
    {
     "name": "stdout",
     "output_type": "stream",
     "text": [
      "Pi is roughly 3.14222\n"
     ]
    },
    {
     "data": {
      "text/plain": [
       "null"
      ]
     },
     "execution_count": 5,
     "metadata": {},
     "output_type": "execute_result"
    }
   ],
   "source": [
    "val NUM_SAMPLES = 1000000 \n",
    "val count = sc.parallelize(1 to NUM_SAMPLES).filter { _ =>\n",
    "  val x = math.random\n",
    "  val y = math.random\n",
    "  x*x + y*y < 1\n",
    "}.count()\n",
    "println(s\"Pi is roughly ${4.0 * count / NUM_SAMPLES}\")"
   ]
  },
  {
   "cell_type": "markdown",
   "metadata": {},
   "source": [
    "# DataFrame API Examples"
   ]
  },
  {
   "cell_type": "markdown",
   "metadata": {},
   "source": [
    "In this example, we count all quijote lines mentioning Dulcinea."
   ]
  },
  {
   "cell_type": "code",
   "execution_count": 8,
   "metadata": {
    "scrolled": true
   },
   "outputs": [
    {
     "data": {
      "application/vnd.jupyter.widget-view+json": {
       "model_id": "aab919b3-adf6-4250-94c9-33977f71a407",
       "version_major": 2,
       "version_minor": 0
      },
      "method": "display_data"
     },
     "metadata": {},
     "output_type": "display_data"
    },
    {
     "name": "stdout",
     "output_type": "stream",
     "text": [
      "282\n",
      "12\n"
     ]
    },
    {
     "data": {
      "application/vnd.jupyter.widget-view+json": {
       "model_id": "b4237ba1-d125-4be7-ab74-423ace4083f2",
       "version_major": 2,
       "version_minor": 0
      },
      "method": "display_data"
     },
     "metadata": {},
     "output_type": "display_data"
    }
   ],
   "source": [
    "import org.apache.spark.sql.functions.col\n",
    "\n",
    "val textFile = sc.textFile(\"../datasets/quijote.txt\")\n",
    "\n",
    "// Creates a DataFrame having a single column named \"line\"\n",
    "val df = textFile.toDF(\"line\")\n",
    "val dulcinea_lines = df.filter(col(\"line\").like(\"%Dulcinea%\"))\n",
    "// Counts all the Dulcinea lines\n",
    "println(dulcinea_lines.count())\n",
    "// Counts lines mentioning Dulcinea and Quijote\n",
    "val dulcinea_quijote_lines = dulcinea_lines.filter(col(\"line\").like(\"%Quijote%\"))\n",
    "println(dulcinea_quijote_lines.count())\n",
    "// Fetches the lines as an array of strings\n",
    "dulcinea_quijote_lines"
   ]
  },
  {
   "cell_type": "code",
   "execution_count": 16,
   "metadata": {},
   "outputs": [
    {
     "data": {
      "application/vnd.jupyter.widget-view+json": {
       "model_id": "4eb53802-f079-4a71-9e08-280e0380af63",
       "version_major": 2,
       "version_minor": 0
      },
      "method": "display_data"
     },
     "metadata": {},
     "output_type": "display_data"
    },
    {
     "data": {
      "application/vnd.jupyter.widget-view+json": {
       "model_id": "6ede9372-5b42-484d-beb2-f1a66f8a6d1e",
       "version_major": 2,
       "version_minor": 0
      },
      "method": "display_data"
     },
     "metadata": {},
     "output_type": "display_data"
    }
   ],
   "source": [
    "dulcinea_quijote_lines.display(1000)"
   ]
  },
  {
   "cell_type": "code",
   "execution_count": null,
   "metadata": {},
   "outputs": [],
   "source": []
  }
 ],
 "metadata": {
  "kernelspec": {
   "display_name": "Scala",
   "language": "scala",
   "name": "scala"
  },
  "language_info": {
   "codemirror_mode": "text/x-scala",
   "file_extension": ".scala",
   "mimetype": "",
   "name": "Scala",
   "nbconverter_exporter": "",
   "version": "2.11.12"
  },
  "toc": {
   "base_numbering": 1,
   "nav_menu": {},
   "number_sections": false,
   "sideBar": false,
   "skip_h1_title": false,
   "title_cell": "Table of Contents",
   "title_sidebar": "Contents",
   "toc_cell": false,
   "toc_position": {},
   "toc_section_display": false,
   "toc_window_display": false
  }
 },
 "nbformat": 4,
 "nbformat_minor": 2
}
